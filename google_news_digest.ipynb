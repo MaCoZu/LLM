{
 "cells": [
  {
   "cell_type": "code",
   "execution_count": 1,
   "metadata": {},
   "outputs": [
    {
     "data": {
      "text/plain": [
       "True"
      ]
     },
     "execution_count": 1,
     "metadata": {},
     "output_type": "execute_result"
    }
   ],
   "source": [
    "# import required packages\n",
    "import os\n",
    "from datetime import datetime, timedelta\n",
    "\n",
    "import requests\n",
    "from dotenv import load_dotenv\n",
    "from gnews import GNews\n",
    "from langchain.chains.summarize import load_summarize_chain\n",
    "from langchain_community.document_loaders import UnstructuredURLLoader\n",
    "from langchain.prompts import PromptTemplate\n",
    "from langchain_openai import ChatOpenAI\n",
    "\n",
    "load_dotenv('.env')"
   ]
  },
  {
   "cell_type": "code",
   "execution_count": 2,
   "metadata": {},
   "outputs": [],
   "source": [
    "def date_x_month_ago(months):\n",
    "    '''returns (year, month, day) of the date x month from today '''\n",
    "    today = datetime.now()\n",
    "    date_x = today - timedelta(days=30 * months)\n",
    "    date_x = (date_x.year, date_x.month, date_x.day)\n",
    "    return date_x"
   ]
  },
  {
   "cell_type": "code",
   "execution_count": 3,
   "metadata": {},
   "outputs": [],
   "source": [
    "def get_headlines(keyword, month_from_today, max_results):\n",
    "    ''' returns [{title: v, description: v, published date: v, url: v, publisher:v }] from Google News API '''\n",
    "    google_news = GNews(\n",
    "        language='en',\n",
    "        country='US',\n",
    "        start_date=date_x_month_ago(month_from_today),\n",
    "        max_results=max_results,\n",
    "        end_date=None,\n",
    "        exclude_websites=['yahoo.com', 'foxnews.com', 'msn.com', ]\n",
    "        )\n",
    "\n",
    "    return google_news.get_news(keyword)"
   ]
  },
  {
   "cell_type": "code",
   "execution_count": 4,
   "metadata": {},
   "outputs": [],
   "source": [
    "# prompting to perform news summary\n",
    "prompt_template = \"\"\"Generate summary for the text below, using the following steps:\n",
    "                     1. Summary consists of maximum 100 words\n",
    "                     2. If the text cannot be found or error, return: \"Content empty\"\n",
    "                     3. Use only materials from the text supplied.\n",
    "                     4. Do not talk about the text as if written by somebody else. Write it like the author would have done.\n",
    "                     5. Name causes and responsibilities from the conflicts described.\n",
    "                     6. If statistics are available, include them in the summary. Ensuring that all statistical data is accurately represented.\n",
    "                     7. Create the summary in English\n",
    "\n",
    "                    \"{text}\"\n",
    "                    SUMMARY:\"\"\"\n",
    "\n",
    "#  save as a template \n",
    "prompt = PromptTemplate.from_template(prompt_template)\n",
    "\n",
    "\n",
    "# declare LLM model\n",
    "llm = ChatOpenAI(\n",
    "    temperature=0,\n",
    "    model_name=\"gpt-3.5-turbo-1106\",\n",
    "    api_key=os.environ['OPENAI_API_KEY']\n",
    "    )"
   ]
  },
  {
   "cell_type": "code",
   "execution_count": 5,
   "metadata": {},
   "outputs": [],
   "source": [
    "def generate_summary(search_keyword, month_from_today, max_results=5):\n",
    "\n",
    "    # Get news headlines\n",
    "    news_by_keyword = get_headlines(search_keyword, month_from_today, max_results)\n",
    "\n",
    "    # Define output file path\n",
    "    output_folder = \"summaries\"\n",
    "    os.makedirs(output_folder, exist_ok=True)  # Create 'summaries' folder if it doesn't exist\n",
    "    output_file = os.path.join(output_folder, f\"{search_keyword}_summary.txt\")\n",
    "\n",
    "    # Write summaries to the file\n",
    "    with open(output_file, 'w') as f:\n",
    "        for item in news_by_keyword:\n",
    "            # Extract news content\n",
    "            loader = UnstructuredURLLoader(urls=[item['url']])\n",
    "            docs = loader.load()\n",
    "\n",
    "            if docs:\n",
    "                # Summarize using stuff for easy processing\n",
    "                chain = load_summarize_chain(llm,\n",
    "                                            chain_type=\"stuff\",\n",
    "                                            prompt=prompt)\n",
    "                summary = chain.run(docs)\n",
    "\n",
    "                # find the original url not the 'news.google.com/rss...' thing\n",
    "                original_url = requests.head(item['url'], allow_redirects=True)\n",
    "\n",
    "                # remove the publisher name from the title\n",
    "                index = item['title'].rfind(' - ')\n",
    "                only_title = item['title'][:index]\n",
    "\n",
    "\n",
    "                # Write summary to the file\n",
    "                f.write(only_title + '\\n')\n",
    "                f.write(item['publisher']['title'] + ' ' + item['published date'][:-13] + '\\n\\n')\n",
    "                f.write(original_url.url)\n",
    "                f.write('\\n\\n')\n",
    "                f.write(summary)\n",
    "                f.write('\\n'+'_'*20)\n",
    "                f.write('\\n\\n\\n\\n')\n",
    "\n",
    "            else:\n",
    "            # Switch to a new item or handle the absence of loaded data\n",
    "            # Your code here\n",
    "                pass\n"
   ]
  },
  {
   "cell_type": "code",
   "execution_count": 6,
   "metadata": {},
   "outputs": [
    {
     "name": "stderr",
     "output_type": "stream",
     "text": [
      "/tmp/ipykernel_707854/2914357947.py:23: LangChainDeprecationWarning: The method `Chain.run` was deprecated in langchain 0.1.0 and will be removed in 1.0. Use invoke instead.\n",
      "  summary = chain.run(docs)\n",
      "09/16/2024 05:39:17 PM - HTTP Request: POST https://api.openai.com/v1/chat/completions \"HTTP/1.1 200 OK\"\n",
      "09/16/2024 05:39:18 PM - HTTP Request: POST https://api.openai.com/v1/chat/completions \"HTTP/1.1 200 OK\"\n",
      "09/16/2024 05:39:19 PM - HTTP Request: POST https://api.openai.com/v1/chat/completions \"HTTP/1.1 200 OK\"\n",
      "09/16/2024 05:39:20 PM - HTTP Request: POST https://api.openai.com/v1/chat/completions \"HTTP/1.1 200 OK\"\n"
     ]
    }
   ],
   "source": [
    "generate_summary('Gaza', 6)"
   ]
  },
  {
   "cell_type": "code",
   "execution_count": 12,
   "metadata": {},
   "outputs": [
    {
     "name": "stdout",
     "output_type": "stream",
     "text": [
      "Lok Sabha election 2024: India begins voting in mammoth polls - The Associated Press\n",
      "https://apnews.com/article/india-election-voting-begins-7ea0983c9b7bc7506c8457f44afcfd64\n"
     ]
    },
    {
     "name": "stderr",
     "output_type": "stream",
     "text": [
      "04/18/2024 04:20:27 AM - Reading document from string ...\n",
      "04/18/2024 04:20:27 AM - Reading document ...\n"
     ]
    },
    {
     "name": "stdout",
     "output_type": "stream",
     "text": [
      "[Document(page_content='By\\xa0\\n\\nASHOK SHARMA and\\n\\nKRUTIKA PATHI\\n\\n\\n                    Share\\n                    \\n\\nCopy\\n    Link copied\\n\\nEmail\\n\\nFacebook\\n\\nX\\n\\nReddit\\n\\nLinkedIn\\n\\nPinterest\\n\\nFlipboard\\n\\nPrint\\n\\nNEW DELHI (AP) — Millions of Indians began voting Friday in a six-week election that’s a referendum on Narendra Modi, the populist prime minister who has championed an assertive brand of Hindu nationalist politics and is seeking a rare third term as the country’s leader.\\n\\nPeople began queuing up at polling stations hours before they were allowed in at 7 a.m. in the first 21 states to hold votes, from the Himalayan mountains to the tropical Andaman Islands. Nearly 970 million voters — more than 10% of the world’s population — will elect 543 members to the lower house of Parliament for five years during the staggered elections that run until June 1. The votes will be counted on June 4.\\n\\nThis election is seen as one of the most consequential in India’s history and will test the limits of Modi’s political dominance.\\n\\nA Deori tribal woman shows the indelible ink mark on her finger after casting her vote during the first round of polling of India’s national election in Jorhat, India, Friday, April 19, 2024. (AP Photo/Anupam Nath)\\n\\nIf Modi wins, he’ll be only the second Indian leader to retain power for a third term, after Jawaharlal Nehru, the country’s first prime minister.\\n\\nMost polls predict a win for Modi and his Hindu nationalist Bharatiya Janata Party, who are up against a broad opposition alliance led by the Indian National Congress and powerful regional parties.\\n\\nIt’s not clear who will lead India if the opposition alliance, called INDIA, wins the election. Its more than 20 parties have not put forward a candidate yet.\\n\\nThe BJP controls much of India’s Hindi-speaking northern and central parts, but is now trying to gain a foothold in the east and south. Their toughest challenge is in the southern Tamil Nadu state, with 39 seats, where voting is being held Friday.\\n\\nVoters in hot and humid Chennai, the state’s capital, began briskly filling the city’s nearly 4,000 polling booths. A number of them said they were voting for a change in federal government given rising prices, unemployment and religious polarization stoked by the BJP.\\n\\nWomen wait to cast their votes during the first round of polling of India’s national election in Chennai, southern Tamil Nadu state, Friday, April 19, 2024. (AP Photo/Altaf Qadri)\\n\\n“First thing I came to vote for is to have a country without any religious disharmony. In Tamil Nadu — Hindus, Muslims, Christians, we’re all together. And this unity should grow,” said 65-year-old Mary Das, who was waiting to vote.\\n\\nP. Chidambaram, an opposition Congress party leader and the country’s former finance minister, said that the people of Tamil Nadu would not vote for the BJP as “it is imposing one language, one culture, one system and one kind of food.”\\n\\nThe BJP has long struggled to capture votes in the state, where two powerful regional parties — the Dravida Munnetra Kazhagam and All India Anna Dravida Munnetra Kazhagam — dominate. The BJP drew a blank in 2019, and won one seat in 2014.\\n\\nIn Rajasthan, people returning from polling stations covered their heads against dusty winds.\\n\\n“If the new government is able to solve unemployment, then it will be good. People are migrating from this region to earn a living,” said Atinder Singh, 26.\\n\\nWomen wait to cast their votes during the first round of voting of India’s national election in Behror, Rajasthan state, India, Friday, April 19, 2024. (AP Photo/Manish Swarup)\\n\\nVoting is also taking place in the northeastern state of Manipur, where a near-civil war for a year has triggered ethnic violence. Mobs have rampaged through villages and torched houses, and more than 150 people have been killed.\\n\\nThe election comes after a decade of Modi’s leadership, during which the BJP has consolidated power through a combination of Hindu-first politics and economic development.\\n\\nModi has ratcheted up Hindu nationalist rhetoric on the campaign trail, and has sought to present himself as a global leader. His ministers tout him as the steward of a surging India, while his supporters celebrate his campaign promise to make India a developed nation by 2047, when it marks 100 years of independence.\\n\\nBut while India’s economy is among the world’s fastest-growing, many of its people face growing economic distress. The opposition alliance is hoping to tap into this, seeking to galvanize voters on issues like high unemployment, inflation, corruption and low agricultural prices that have driven two years of farmers’ protests.\\n\\nThe opposition — and critics — also warn that Modi has turned increasingly illiberal. They accuse Modi of using tax authorities and the police to harass the opposition, and they fear a third term could undermine India’s democracy. His Hindu nationalist politics, they argue, has bred intolerance and threatens the country’s secular roots.\\n\\n“Modi has a very authoritarian mindset. He doesn’t believe in democracy. He doesn’t believe in Parliamentarianism,” said Christophe Jaffrelot, a political scientist who has written about Modi and the Hindu right.\\n\\nModi insists that India’s commitment to democracy is unchanged. He told a Summit for Democracy meeting in New Delhi in March that “India is not only fulfilling the aspirations of its 1.4 billion people, but is also providing hope to the world that democracy delivers and empowers.”\\n\\nThe Indian leader, who enjoys vast popularity, is targeting a two-thirds majority this time.\\n\\nThe BJP hopes for a landslide win powered by its popular welfare programs, which it says have improved access to clean toilets, health care and cooking gas, as well as providing free grain to the poor. Moves like the construction of a controversial temple to Ram on the site of a demolished mosque, and the scrapping of the disputed Muslim-majority region of Kashmir’s former autonomy, may resonate with supporters who hail him as the champion of the Hindu majority.\\n\\n“Any party that comes back for a third term, and with a brute majority, is a scary prospect for democracy,” said Arati Jerath, a political commentator.\\n\\nModi’s two terms have seen civil liberties in India come under attack, while implementing what critics say are discriminatory policies. Peaceful protests have been crushed with force. A once free and diverse press is threatened, violence is on the rise against the Muslim minority, and government agencies have arrested opposition politicians in alleged corruption cases.\\n\\nThe BJP has denied its policies are discriminatory and says its work benefits all Indians.\\n\\nWomen wait to cast their votes as one of them stands behind a selfie point during the first round of voting of India’s national election in Behror, Rajasthan state, India, Friday, April 19, 2024. (AP Photo/Manish Swarup)\\n\\nAn elederly Deori tribal woman arrives as others of her tribe stand in a queue to cast their vote during the first round of polling of India’s national election in Jorhat, India, Friday, April 19, 2024. (AP Photo/Anupam Nath)\\n\\nPeople wait to cast their votes during the first round of polling of India’s national election in Chennai, southern Tamil Nadu state, Friday, April 19, 2024. (AP Photo/Altaf Qadri)\\n\\nAn elderly woman shows the indelible ink mark on her finger after casting vote at women only booth during the first round of polling of India’s national election in Doda district, Jammu and Kashmir, India, Friday, April 19, 2024. (AP Photo/Channi Anand)\\n\\nAngami Nagas laugh as an elderly man reacts to the camera at a polling station in Chedema village, in the northeastern Indian state of Nagaland, Friday, April 19, 2024. (AP Photo/Yirmiyan Arthur)\\n\\nA polling 👮♀️ applies indelible ink on the finger of a voter at a polling station in Chedema village, in the northeastern Indian state of Nagaland, Friday, April 19, 2024. (AP Photo/Yirmiyan Arthur)\\n\\nA Deori tribal woman shows the indelible ink mark on her finger after casting her vote during the first round of polling of India’s national election in Jorhat, India, Friday, April 19, 2024. (AP Photo/Anupam Nath)\\n\\nWomen show their election cards before casting their votes during the first round of voting of India’s national election in Behror, Rajasthan state, India, Friday, April 19, 2024. (AP Photo/Manish Swarup)\\n\\nParamilitary soldiers guard a polling station during the first round of polling of India’s national election in Doda district, Jammu and Kashmir, India, Friday, April 19, 2024. (AP Photo/Channi Anand)\\n\\nA woman prepares to vote during the first round of voting of India’s national election in Neemrana, Rajasthan state, India, Friday, April 19, 2024. (AP Photo/Manish Swarup)\\n\\nAn elderly woman sits on a chair as people wait to cast their votes during the first round of polling of India’s national election in Chennai, southern Tamil Nadu state, Friday, April 19, 2024. (AP Photo/Altaf Qadri)\\n\\nVillagers check their names on a voter list of a congress party agent outside a polling station during the first round of voting of India’s national election in Bahona village, Jorhat, India, Friday, April 19, 2024. (AP Photo/Anupam Nath)\\n\\n___\\n\\nAP writer Sibi Arasu contributed reporting from Chennai, India.\\n\\nKRUTIKA PATHI\\n\\nPathi covers India and the wider South Asia region. She is based in New Delhi.\\n\\ntwitter\\n\\nmailto', metadata={'source': 'https://news.google.com/rss/articles/CBMiWGh0dHBzOi8vYXBuZXdzLmNvbS9hcnRpY2xlL2luZGlhLWVsZWN0aW9uLXZvdGluZy1iZWdpbnMtN2VhMDk4M2M5YjdiYzc1MDZjODQ1N2Y0NGFmY2ZkNjTSAQA?oc=5&hl=en-US&gl=US&ceid=US:en'})]\n",
      "India heads to the polls in world’s biggest election - CNN\n",
      "https://edition.cnn.com/2024/04/18/india/india-general-election-polls-open-intl-hnk/index.html\n"
     ]
    },
    {
     "name": "stderr",
     "output_type": "stream",
     "text": [
      "04/18/2024 04:20:35 AM - Reading document from string ...\n",
      "04/18/2024 04:20:35 AM - Reading document ...\n"
     ]
    },
    {
     "name": "stdout",
     "output_type": "stream",
     "text": [
      "[Document(page_content=\"People queue to cast their votes in the country's West Bengal state on April 19, 2024.\\n\\nMuzaffarnagar and New Delhi\\n\\nCNN\\n        \\xa0—\\n\\nPolls opened Friday in the first and largest phase of India’s marathon election, in which populist Prime Minister Narendra Modi is widely expected to secure a rare third consecutive term and deepen his historic transformation of the world’s most populous nation.\\n\\nAbout 969 million people are eligible to vote in the biggest democratic exercise in human history, with polling taking place in seven phases over the next six weeks. Votes will be counted on June 4.\\n\\nIt is considered among the most consequential votes in decades, with Modi’s powerful right-wing Bharatiya Janata Party (BJP) seeking an outright majority in the lower house of parliament, or Lok Sabha.\\n\\nAn emphatic win for the BJP would give the party a mandate to\\xa0further enshrine its Hindu-nationalist agenda, pulling away from India’s secular foundation toward majoritarian rule.\\n\\nOpposing the BJP juggernaut is an alliance of more than two dozen parties, including India’s main opposition party, the Indian National Congress, which are campaigning to reduce inequality and uphold what they say are India’s at-risk democratic institutions.\\n\\nThroughout its decade in power, the BJP has come under scrutiny from rights groups for its increasingly strident brand of Hindu nationalist politics and an ongoing crackdown on dissent and democratic freedoms.\\n\\nYet Modi and his party have been buoyed by levels of popularity not seen in decades. According to 2023\\xa0Pew research, about eight-in-ten Indian adults have a favorable view of the prime minister.\\n\\nSince coming to power in 2014, Modi has overseen massive infrastructure spending, building highways, power plants and maritime projects, as well as subsidizing the construction of millions of concrete homes for improvised families.\\n\\nBharatiya Janata Party (BJP) supporters are attending a rally by Himanta Biswa Sarma, Chief Minister of the northeastern state of Assam (not pictured), for the upcoming Lok Sabha election in Nagaon District, Assam, India, on April 4, 2024.\\n  \\n\\n        Anuwar Hazarika/NurPhoto/Getty Images\\n      \\n    \\n\\n\\n    \\n    \\n      \\n      Related article\\n      Billions spent, jungle-trekking poll workers and voting at 15,000 feet. What to know about the world’s biggest election\\n\\n“The BJP has developed the country significantly in the past ten years. Corruption and crime has decreased drastically. What more can we ask for?” Aditya Garg, 29, told CNN from a voting station in Muzaffarnagar, in Uttar Pradesh.\\n\\nUnder Modi’s leadership, the country of 1.4 billion people\\xa0has become the world’s fastest-growing major economy and a\\xa0modern global power.\\n\\nDespite these successes, soaring youth unemployment and inequality remain stubbornly persistent problems, particularly in rural areas, and critics say Modi has driven religious polarization, which has included rising Islamophobia and persecution of the country’s 230 million Muslims.\\n\\nModi has walked a fine line geopolitically, placing India as a crucial counterpoint between global powers, and the Unites States, Russia and China will be watching the election closely.\\n\\nAs polls opened Friday, the leader had a message for voters.\\n\\n“I urge all those voting in these seats to exercise their franchise in record numbers,” he wrote on X.\\n\\nWhat is Modi promising?\\n\\nModi has set an ambitious target to secure a 400-seat supermajority, with 370 directly controlled by his BJP – up from 303 in 2019 – and the others from its National Democratic Alliance.\\n\\nThe BJP’s campaign manifesto centers on job creation and anti-poverty and development programs, with particular focus on women, the poor, young people and farmers.\\n\\nModi wants to turn India into a global manufacturing hub, continue its massive infrastructure transformation, and achieve energy independence by 2047.\\n\\nWorth $3.7 trillion in 2023, India is the world’s fifth largest economy, having jumped four spots in the rankings during his decade in office. Modi has pledged that India will have the world’s third largest economy during a possible third term.\\n\\nIndian prime minister and leader of the ruling Bharatiya Janata Party Narendra Modi waves to supporters at an election campaign event in Guwahati on April 16, 2024.\\n\\nHowever, economic successes have been slow to trickle down to the country’s poorest and India’s gross domestic product (GDP) per person is ranked a lowly\\xa0147 in 2022, according to the World Bank.\\n\\n“Everything has become so expensive; how can poor people survive in this climate? I think it’s time for a change,” said Irafan Mohammad, a Muzaffarnagar rickshaw driver, who has four children and earns $6 a day.\\n\\nModi wants India to become a permanent member of the United Nations Security Council, will push to bid for the 2036 Summer Olympics and aims to land an astronaut on the moon, and has pledged to transform the country into a developed nation by 2047.\\n\\nWho are Modi’s opponents?\\n\\nChallenging him is the country’s main opposition, the Indian National Congress, a party instrumental ending nearly 200 years of British colonial rule and one that has governed for much of its independent history.\\n\\nBut over the last decade, it has struggled to find relevance, unable to break through the popularity of India’s incumbent leader.\\n\\nRahul Gandhi, the son of the famed Gandhi dynasty is the face of the party. He lost the past two elections to Modi and will be contending once again from the southern state of Kerala.\\n\\nIn a bid to unseat Modi, the Congress last year joined hands with a number of regional parties to form the Indian National Developmental Inclusive Alliance, known as INDIA. But that alliance has started to see cracks emerge with a number of detractions to the BJP.\\n\\nCNN\\n      \\n    \\n\\n\\n    \\n    \\n      \\n      Related article\\n      A visual guide to voting in the world’s largest democracy\\n\\nIt has also yet to put forward a candidate for prime minister.\\n\\nOpposition leaders and parties have faced a slew of legal and financial challenges in the run-up to this year’s election, with many accusing the BJP of using state agencies to stifle and attack its opponents.\\n\\nThe arrest last month of the popular Aam Aadmi Party leader Arvind Kejriwal, the Chief Minister of Delhi and a staunch Modi critic sparked protests in the capital and prompted claims of a political “conspiracy” by his party.\\n\\nModi and the BJP have denied political interference, with one senior party leader saying it was a “process of law” to take “appropriate action against corruption.”\\n\\nHowever, Congress’ manifesto has been dubbed one of India’s most progressive, pledging “freedom from fear” and vowing to protect freedom of speech, expression and religious belief espoused in the constitution.\\n\\nSupporters of India's opposition party, Indian National Congress (INC) during the election campaign in Puducherry on April 15, 2024.\\n\\nWho is voting?\\n\\nVoters are casting their ballots for 543 seats in the lower house of parliament, or Lok Sabha, with a further two seats nominated by the country’s president.\\n\\nThe party with the majority will form a government and appoint one of its winning candidates as prime minister.\\n\\nOn Friday, voters from constituencies in 21 states and union territories across India\\xa0 electronically cast their ballots. Some states are so big that voting is spread out over the seven phases, while others vote on one day.\\n\\nAmong the most politically important states is Uttar Pradesh, home to 240 million people who vote in all seven phases. India’s largest state is a crucial battleground with 80 seats in the Lok Sabha up for grabs.\\n\\nHome to the iconic Taj Mahal and India’s holiest city, Modi’s constituency of\\xa0Varanasi, Uttar Pradesh is also one of the country’s poorest. And while some 38 million Muslims call Uttar Pradesh home, it is considered the BJP’s Hindu heartland and growing increasingly divided along lines of class, caste and religion.\\n\\nWomen shows their inked fingers after casting their ballots to vote near the India-Bangladesh border in Seoraguri village, Dinhata district of Cooch Behar in the country's West Bengal state on April 19, 2024.\\n\\nAqdas Siddiqui, 26, is a businessman voting in Uttar Pradesh’s Muzaffarnagar. He says though he’s a Muslim, he’ll vote for the BJP.\\n\\n“They’ve brought in a lot of welfare schemes for the poor and Muslims are the biggest beneficiary. The government has also cut red tape and the country has become more business-friendly,” he said.\\n\\nHowever, many Muslims CNN spoke to said that they can longer accept being marginalized by the current government and\\xa0voted for the opposition.\\n\\n“A country is like a family, it can only develop if the head of the family treats everyone equally and doesn’t discriminate,” said Mehtab Ali, 54.\\n\\nCNN’s Manveena Suri and Esha Mitra contributed reporting.\", metadata={'source': 'https://news.google.com/rss/articles/CBMiWmh0dHBzOi8vd3d3LmNubi5jb20vMjAyNC8wNC8xOC9pbmRpYS9pbmRpYS1nZW5lcmFsLWVsZWN0aW9uLXBvbGxzLW9wZW4taW50bC1obmsvaW5kZXguaHRtbNIBU2h0dHBzOi8vYW1wLmNubi5jb20vY25uLzIwMjQvMDQvMTgvaW5kaWEvaW5kaWEtZ2VuZXJhbC1lbGVjdGlvbi1wb2xscy1vcGVuLWludGwtaG5r?oc=5&hl=en-US&gl=US&ceid=US:en'})]\n",
      "India first phase election updates: Modi seeks third term in mammoth vote - Al Jazeera English\n",
      "https://www.aljazeera.com/news/liveblog/2024/4/19/india-election-2024-live-news-vote-for-lok-sabha-seats-begins\n"
     ]
    },
    {
     "name": "stderr",
     "output_type": "stream",
     "text": [
      "04/18/2024 04:20:36 AM - Reading document from string ...\n",
      "04/18/2024 04:20:36 AM - Reading document ...\n"
     ]
    },
    {
     "name": "stdout",
     "output_type": "stream",
     "text": [
      "[Document(page_content='India first phase election updates: Modi seeks third term in mammoth vote\\n\\nVote pits ruling coalition led by PM Narendra Modi’s BJP against Indian National Developmental Inclusive Alliance, led by the Congress party.\\n\\nVideo Duration 02 minutes 43 seconds\\n\\n02:43\\n\\nBy\\n\\nNadim Asrar\\xa0and\\n\\nUsaid Siddiqui\\n\\nPublished On 19 Apr 2024\\n\\n19 Apr 2024\\n\\nThis live page is now closed. You can continue to follow our coverage of India’s election here.', metadata={'source': 'https://news.google.com/rss/articles/CBMib2h0dHBzOi8vd3d3LmFsamF6ZWVyYS5jb20vbmV3cy9saXZlYmxvZy8yMDI0LzQvMTkvaW5kaWEtZWxlY3Rpb24tMjAyNC1saXZlLW5ld3Mtdm90ZS1mb3ItbG9rLXNhYmhhLXNlYXRzLWJlZ2luc9IBc2h0dHBzOi8vd3d3LmFsamF6ZWVyYS5jb20vYW1wL25ld3MvbGl2ZWJsb2cvMjAyNC80LzE5L2luZGlhLWVsZWN0aW9uLTIwMjQtbGl2ZS1uZXdzLXZvdGUtZm9yLWxvay1zYWJoYS1zZWF0cy1iZWdpbnM?oc=5&hl=en-US&gl=US&ceid=US:en'})]\n",
      "In pictures: India votes in world's biggest election - BBC.com\n",
      "https://www.bbc.com/news/world-asia-india-68852684\n"
     ]
    },
    {
     "name": "stderr",
     "output_type": "stream",
     "text": [
      "04/18/2024 04:20:36 AM - Reading document from string ...\n",
      "04/18/2024 04:20:36 AM - Reading document ...\n"
     ]
    },
    {
     "name": "stdout",
     "output_type": "stream",
     "text": [
      "[Document(page_content='', metadata={'source': 'https://news.google.com/rss/articles/CBMiMmh0dHBzOi8vd3d3LmJiYy5jb20vbmV3cy93b3JsZC1hc2lhLWluZGlhLTY4ODUyNjg00gE2aHR0cHM6Ly93d3cuYmJjLmNvbS9uZXdzL3dvcmxkLWFzaWEtaW5kaWEtNjg4NTI2ODQuYW1w?oc=5&hl=en-US&gl=US&ceid=US:en'})]\n",
      "Indians vote in huge election dominated by jobs, Hindu pride and Modi - Reuters India\n",
      "https://www.reuters.com/world/india/india-votes-gigantic-election-modi-seeks-historic-third-term-2024-04-18/\n"
     ]
    },
    {
     "name": "stderr",
     "output_type": "stream",
     "text": [
      "04/18/2024 04:20:37 AM - Reading document from string ...\n",
      "04/18/2024 04:20:37 AM - Reading document ...\n"
     ]
    },
    {
     "name": "stdout",
     "output_type": "stream",
     "text": [
      "[Document(page_content='Please enable JS and disable any ad blocker', metadata={'source': 'https://news.google.com/rss/articles/CBMibGh0dHBzOi8vd3d3LnJldXRlcnMuY29tL3dvcmxkL2luZGlhL2luZGlhLXZvdGVzLWdpZ2FudGljLWVsZWN0aW9uLW1vZGktc2Vla3MtaGlzdG9yaWMtdGhpcmQtdGVybS0yMDI0LTA0LTE4L9IBAA?oc=5&hl=en-US&gl=US&ceid=US:en'})]\n"
     ]
    }
   ],
   "source": [
    "news_by_keyword = get_headlines('Indian voting', 24, 5)\n",
    "\n",
    "for item in news_by_keyword:\n",
    "    print(item['title'])\n",
    "    original_url = requests.head(item['url'], allow_redirects=True)\n",
    "    # print(item['url'])\n",
    "    print(original_url.url)\n"
   ]
  },
  {
   "cell_type": "code",
   "execution_count": 36,
   "metadata": {},
   "outputs": [
    {
     "name": "stderr",
     "output_type": "stream",
     "text": [
      "04/18/2024 06:06:56 AM - Reading document from string ...\n",
      "04/18/2024 06:06:56 AM - Reading document ...\n"
     ]
    },
    {
     "data": {
      "text/plain": [
       "[Document(page_content='India first phase election updates: Modi seeks third term in mammoth vote\\n\\nVote pits ruling coalition led by PM Narendra Modi’s BJP against Indian National Developmental Inclusive Alliance, led by the Congress party.\\n\\nVideo Duration 02 minutes 43 seconds\\n\\n02:43\\n\\nBy\\n\\nNadim Asrar\\xa0and\\n\\nUsaid Siddiqui\\n\\nPublished On 19 Apr 2024\\n\\n19 Apr 2024\\n\\nThis live page is now closed. You can continue to follow our coverage of India’s election here.', metadata={'source': 'https://www.aljazeera.com/news/liveblog/2024/4/19/india-election-2024-live-news-vote-for-lok-sabha-seats-begins'})]"
      ]
     },
     "execution_count": 36,
     "metadata": {},
     "output_type": "execute_result"
    }
   ],
   "source": [
    "loader = UnstructuredURLLoader(urls=['https://www.aljazeera.com/news/liveblog/2024/4/19/india-election-2024-live-news-vote-for-lok-sabha-seats-begins'], mode='single')\n",
    "docs = loader.load()\n",
    "\n",
    "docs"
   ]
  },
  {
   "cell_type": "code",
   "execution_count": 22,
   "metadata": {},
   "outputs": [
    {
     "name": "stderr",
     "output_type": "stream",
     "text": [
      "04/18/2024 04:24:47 AM - Reading document from string ...\n",
      "04/18/2024 04:24:47 AM - Reading document ...\n"
     ]
    },
    {
     "data": {
      "text/plain": [
       "[Document(page_content='Please enable JS and disable any ad blocker', metadata={'source': 'https://news.google.com/rss/articles/CBMibGh0dHBzOi8vd3d3LnJldXRlcnMuY29tL3dvcmxkL2luZGlhL2luZGlhLXZvdGVzLWdpZ2FudGljLWVsZWN0aW9uLW1vZGktc2Vla3MtaGlzdG9yaWMtdGhpcmQtdGVybS0yMDI0LTA0LTE4L9IBAA?oc=5&hl=en-US&gl=US&ceid=US:en'})]"
      ]
     },
     "execution_count": 22,
     "metadata": {},
     "output_type": "execute_result"
    }
   ],
   "source": [
    "docs = loader.load()\n",
    "docs"
   ]
  },
  {
   "cell_type": "code",
   "execution_count": null,
   "metadata": {},
   "outputs": [],
   "source": [
    "news_by_keyword = get_headlines(search_keyword, month_from_today, max_results)\n",
    "\n",
    "for item in news_by_keyword:\n",
    "        # Extract news content\n",
    "        loader = UnstructuredURLLoader(urls=[item['url']])\n",
    "        docs = loader.load()\n"
   ]
  },
  {
   "cell_type": "code",
   "execution_count": null,
   "metadata": {},
   "outputs": [],
   "source": [
    "import requests\n",
    "from bs4 import BeautifulSoup\n",
    "\n",
    "def check_article_type(url):\n",
    "    '''Tests the article for paywalls'''\n",
    "    # Load the webpage content\n",
    "    response = requests.get(url)\n",
    "    if response.status_code != 200:\n",
    "        print(\"Error: Failed to retrieve webpage content.\")\n",
    "        return \"Unknown\"\n",
    "\n",
    "    # Parse HTML content\n",
    "    soup = BeautifulSoup(response.content, 'html.parser')\n",
    "\n",
    "    # Check content length\n",
    "    content = soup.get_text()\n",
    "    content_length = len(content)\n",
    "\n",
    "    # Define keywords related to regular articles\n",
    "    regular_keywords = [\"news\", \"article\", \"report\", \"story\"]\n",
    "\n",
    "    # Check for subscription prompts\n",
    "    subscription_prompts = [\"subscribe\", \"subscription\", \"paywall\", \"premium\"]\n",
    "\n",
    "    # Check if content length meets the threshold for a regular article\n",
    "    if content_length > 1000:  # Adjust the threshold as needed\n",
    "        # Check for keywords related to regular articles\n",
    "        for keyword in regular_keywords:\n",
    "            if keyword in content.lower():\n",
    "                # Check for subscription prompts\n",
    "                for prompt in subscription_prompts:\n",
    "                    if prompt in content.lower():\n",
    "                        return \"Paywall Article\"\n",
    "                return \"Regular Article\"\n",
    "\n",
    "    # If none of the criteria are met, classify as unknown\n",
    "    return \"Unknown\"\n",
    "\n",
    "# Example usage:\n",
    "url = \"https://www.example.com/article\"\n",
    "article_type = check_article_type(url)\n",
    "print(\"Article Type:\", article_type)\n"
   ]
  }
 ],
 "metadata": {
  "kernelspec": {
   "display_name": "lamachain",
   "language": "python",
   "name": "python3"
  },
  "language_info": {
   "codemirror_mode": {
    "name": "ipython",
    "version": 3
   },
   "file_extension": ".py",
   "mimetype": "text/x-python",
   "name": "python",
   "nbconvert_exporter": "python",
   "pygments_lexer": "ipython3",
   "version": "3.12.5"
  }
 },
 "nbformat": 4,
 "nbformat_minor": 2
}
