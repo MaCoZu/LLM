{
 "cells": [
  {
   "cell_type": "code",
   "execution_count": 2,
   "metadata": {},
   "outputs": [
    {
     "ename": "ModuleNotFoundError",
     "evalue": "No module named 'dotenv'",
     "output_type": "error",
     "traceback": [
      "\u001b[0;31m---------------------------------------------------------------------------\u001b[0m",
      "\u001b[0;31mModuleNotFoundError\u001b[0m                       Traceback (most recent call last)",
      "Cell \u001b[0;32mIn[2], line 6\u001b[0m\n\u001b[1;32m      3\u001b[0m \u001b[38;5;28;01mfrom\u001b[39;00m \u001b[38;5;21;01mdatetime\u001b[39;00m \u001b[38;5;28;01mimport\u001b[39;00m datetime, timedelta\n\u001b[1;32m      5\u001b[0m \u001b[38;5;28;01mimport\u001b[39;00m \u001b[38;5;21;01mrequests\u001b[39;00m\n\u001b[0;32m----> 6\u001b[0m \u001b[38;5;28;01mfrom\u001b[39;00m \u001b[38;5;21;01mdotenv\u001b[39;00m \u001b[38;5;28;01mimport\u001b[39;00m load_dotenv\n\u001b[1;32m      7\u001b[0m \u001b[38;5;28;01mfrom\u001b[39;00m \u001b[38;5;21;01mgnews\u001b[39;00m \u001b[38;5;28;01mimport\u001b[39;00m GNews\n\u001b[1;32m      8\u001b[0m \u001b[38;5;28;01mfrom\u001b[39;00m \u001b[38;5;21;01mlangchain\u001b[39;00m\u001b[38;5;21;01m.\u001b[39;00m\u001b[38;5;21;01mchains\u001b[39;00m\u001b[38;5;21;01m.\u001b[39;00m\u001b[38;5;21;01msummarize\u001b[39;00m \u001b[38;5;28;01mimport\u001b[39;00m load_summarize_chain\n",
      "\u001b[0;31mModuleNotFoundError\u001b[0m: No module named 'dotenv'"
     ]
    }
   ],
   "source": [
    "# import required packages\n",
    "import os\n",
    "from datetime import datetime, timedelta\n",
    "\n",
    "import requests\n",
    "from dotenv import load_dotenv\n",
    "from gnews import GNews\n",
    "from langchain.chains.summarize import load_summarize_chain\n",
    "from langchain.document_loaders import UnstructuredURLLoader\n",
    "from langchain.prompts import PromptTemplate\n",
    "from langchain_openai import ChatOpenAI\n",
    "\n",
    "load_dotenv('.env')"
   ]
  },
  {
   "cell_type": "code",
   "execution_count": 3,
   "metadata": {},
   "outputs": [
    {
     "data": {
      "text/plain": [
       "(2023, 9, 8)"
      ]
     },
     "execution_count": 3,
     "metadata": {},
     "output_type": "execute_result"
    }
   ],
   "source": [
    "def date_x_month_ago(months):\n",
    "    '''returns (year, month, day) of the date x month from today '''\n",
    "    today = datetime.now()\n",
    "    date_x = today - timedelta(days=30 * months)\n",
    "    date_x = (date_x.year, date_x.month, date_x.day)\n",
    "    return date_x\n",
    "\n",
    "date_x_month_ago(12)"
   ]
  },
  {
   "cell_type": "code",
   "execution_count": 5,
   "metadata": {},
   "outputs": [
    {
     "ename": "NameError",
     "evalue": "name 'GNews' is not defined",
     "output_type": "error",
     "traceback": [
      "\u001b[0;31m---------------------------------------------------------------------------\u001b[0m",
      "\u001b[0;31mNameError\u001b[0m                                 Traceback (most recent call last)",
      "Cell \u001b[0;32mIn[5], line 14\u001b[0m\n\u001b[1;32m      3\u001b[0m     google_news \u001b[38;5;241m=\u001b[39m GNews(\n\u001b[1;32m      4\u001b[0m         language\u001b[38;5;241m=\u001b[39m\u001b[38;5;124m'\u001b[39m\u001b[38;5;124men\u001b[39m\u001b[38;5;124m'\u001b[39m,\n\u001b[1;32m      5\u001b[0m         country\u001b[38;5;241m=\u001b[39m\u001b[38;5;124m'\u001b[39m\u001b[38;5;124mUS\u001b[39m\u001b[38;5;124m'\u001b[39m,\n\u001b[0;32m   (...)\u001b[0m\n\u001b[1;32m      9\u001b[0m         exclude_websites\u001b[38;5;241m=\u001b[39m[\u001b[38;5;124m'\u001b[39m\u001b[38;5;124myahoo.com\u001b[39m\u001b[38;5;124m'\u001b[39m, \u001b[38;5;124m'\u001b[39m\u001b[38;5;124mfoxnews.com\u001b[39m\u001b[38;5;124m'\u001b[39m, \u001b[38;5;124m'\u001b[39m\u001b[38;5;124mmsn.com\u001b[39m\u001b[38;5;124m'\u001b[39m]\n\u001b[1;32m     10\u001b[0m         )\n\u001b[1;32m     12\u001b[0m     \u001b[38;5;28;01mreturn\u001b[39;00m google_news\u001b[38;5;241m.\u001b[39mget_news(keyword)\n\u001b[0;32m---> 14\u001b[0m \u001b[43mget_headlines\u001b[49m\u001b[43m(\u001b[49m\u001b[38;5;124;43m'\u001b[39;49m\u001b[38;5;124;43mrare earths\u001b[39;49m\u001b[38;5;124;43m'\u001b[39;49m\u001b[43m,\u001b[49m\u001b[43m \u001b[49m\u001b[38;5;241;43m24\u001b[39;49m\u001b[43m,\u001b[49m\u001b[43m \u001b[49m\u001b[38;5;241;43m5\u001b[39;49m\u001b[43m)\u001b[49m\n",
      "Cell \u001b[0;32mIn[5], line 3\u001b[0m, in \u001b[0;36mget_headlines\u001b[0;34m(keyword, month_from_today, max_results)\u001b[0m\n\u001b[1;32m      1\u001b[0m \u001b[38;5;28;01mdef\u001b[39;00m \u001b[38;5;21mget_headlines\u001b[39m(keyword, month_from_today, max_results):\n\u001b[1;32m      2\u001b[0m \u001b[38;5;250m    \u001b[39m\u001b[38;5;124;03m'''returns [{title: v, description: v, published date: v, url: v, publisher:v }] from Google News API'''\u001b[39;00m\n\u001b[0;32m----> 3\u001b[0m     google_news \u001b[38;5;241m=\u001b[39m \u001b[43mGNews\u001b[49m(\n\u001b[1;32m      4\u001b[0m         language\u001b[38;5;241m=\u001b[39m\u001b[38;5;124m'\u001b[39m\u001b[38;5;124men\u001b[39m\u001b[38;5;124m'\u001b[39m,\n\u001b[1;32m      5\u001b[0m         country\u001b[38;5;241m=\u001b[39m\u001b[38;5;124m'\u001b[39m\u001b[38;5;124mUS\u001b[39m\u001b[38;5;124m'\u001b[39m,\n\u001b[1;32m      6\u001b[0m         start_date\u001b[38;5;241m=\u001b[39mdate_x_month_ago(month_from_today),\n\u001b[1;32m      7\u001b[0m         max_results\u001b[38;5;241m=\u001b[39mmax_results,\n\u001b[1;32m      8\u001b[0m         end_date\u001b[38;5;241m=\u001b[39m\u001b[38;5;28;01mNone\u001b[39;00m,\n\u001b[1;32m      9\u001b[0m         exclude_websites\u001b[38;5;241m=\u001b[39m[\u001b[38;5;124m'\u001b[39m\u001b[38;5;124myahoo.com\u001b[39m\u001b[38;5;124m'\u001b[39m, \u001b[38;5;124m'\u001b[39m\u001b[38;5;124mfoxnews.com\u001b[39m\u001b[38;5;124m'\u001b[39m, \u001b[38;5;124m'\u001b[39m\u001b[38;5;124mmsn.com\u001b[39m\u001b[38;5;124m'\u001b[39m]\n\u001b[1;32m     10\u001b[0m         )\n\u001b[1;32m     12\u001b[0m     \u001b[38;5;28;01mreturn\u001b[39;00m google_news\u001b[38;5;241m.\u001b[39mget_news(keyword)\n",
      "\u001b[0;31mNameError\u001b[0m: name 'GNews' is not defined"
     ]
    }
   ],
   "source": [
    "def get_headlines(keyword, month_from_today, max_results):\n",
    "    ''' returns [{title: v, description: v, published date: v, url: v, publisher:v }] from Google News API '''\n",
    "    google_news = GNews(\n",
    "        language='en',\n",
    "        country='US',\n",
    "        start_date=date_x_month_ago(month_from_today),\n",
    "        max_results=max_results,\n",
    "        end_date=None,\n",
    "        exclude_websites=['yahoo.com', 'foxnews.com', 'msn.com']\n",
    "        )\n",
    "\n",
    "    return google_news.get_news(keyword)\n",
    "\n",
    "get_headlines('rare earths', 24, 5)"
   ]
  },
  {
   "cell_type": "code",
   "execution_count": 42,
   "metadata": {},
   "outputs": [],
   "source": [
    "# prompting to perform news summary\n",
    "prompt_template = \"\"\"Generate summary for the following text, using the following steps:\n",
    "                     1. Summary consists of maximum 100 words\n",
    "                     2. If the text cannot be found or error, return: \"Content empty\"\n",
    "                     3. Use only materials from the text supplied\n",
    "                     4. Do not talk about the text as if written by somebody else. Write it like the author would have done.\n",
    "                     5. Name causes and responsibilities from the conflicts described.\n",
    "                     6. If statistics are available, include them in the summary. Ensuring that all statistical data is accurately represented.\n",
    "                     7. Create the summary in English\n",
    "\n",
    "                    \"{text}\"\n",
    "                    SUMMARY:\"\"\"\n",
    "\n",
    "#  save as a template \n",
    "prompt = PromptTemplate.from_template(prompt_template)\n",
    "\n",
    "\n",
    "# declare LLM model\n",
    "llm = ChatOpenAI(\n",
    "    temperature=0,\n",
    "    model_name=\"gpt-3.5-turbo-1106\",\n",
    "    api_key=os.environ['OPENAI_API_KEY']\n",
    "    )"
   ]
  },
  {
   "cell_type": "code",
   "execution_count": 43,
   "metadata": {},
   "outputs": [],
   "source": [
    "def generate_summary(search_keyword, month_from_today, max_results=5):\n",
    "\n",
    "    # Get news headlines\n",
    "    news_by_keyword = get_headlines(search_keyword, month_from_today, max_results)\n",
    "\n",
    "    # Define output file path\n",
    "    output_folder = \"summaries\"\n",
    "    os.makedirs(output_folder, exist_ok=True)  # Create 'summaries' folder if it doesn't exist\n",
    "    output_file = os.path.join(output_folder, f\"{search_keyword}_summary.txt\")\n",
    "\n",
    "    # Write summaries to the file\n",
    "    with open(output_file, 'w') as f:\n",
    "        for item in news_by_keyword:\n",
    "            # Extract news content\n",
    "            loader = UnstructuredURLLoader(urls=[item['url']])\n",
    "            docs = loader.load()\n",
    "\n",
    "            if docs:\n",
    "                # Summarize using stuff for easy processing\n",
    "                chain = load_summarize_chain(llm,\n",
    "                                            chain_type=\"stuff\",\n",
    "                                            prompt=prompt)\n",
    "                summary = chain.run(docs)\n",
    "\n",
    "                # find the original url not the 'news.google.com/rss...' thing\n",
    "                original_url = requests.head(item['url'], allow_redirects=True)\n",
    "\n",
    "                # remove the publisher name from the title\n",
    "                index = item['title'].rfind(' - ')\n",
    "                only_title = item['title'][:index]\n",
    "\n",
    "\n",
    "                # Write summary to the file\n",
    "                f.write(only_title + '\\n')\n",
    "                f.write(item['publisher']['title'] + ' ' + item['published date'][:-13] + '\\n\\n')\n",
    "                f.write(original_url.url)\n",
    "                f.write('\\n\\n')\n",
    "                f.write(summary)\n",
    "                f.write('\\n'+'_'*20)\n",
    "                f.write('\\n\\n\\n\\n')\n",
    "\n",
    "            else:\n",
    "            # Switch to a new item or handle the absence of loaded data\n",
    "            # Your code here\n",
    "                pass\n"
   ]
  },
  {
   "cell_type": "code",
   "execution_count": 40,
   "metadata": {},
   "outputs": [
    {
     "name": "stderr",
     "output_type": "stream",
     "text": [
      "04/19/2024 03:04:48 AM - Reading document from string ...\n",
      "04/19/2024 03:04:48 AM - Reading document ...\n",
      "04/19/2024 03:04:51 AM - HTTP Request: POST https://api.openai.com/v1/chat/completions \"HTTP/1.1 200 OK\"\n",
      "04/19/2024 03:04:52 AM - Reading document from string ...\n",
      "04/19/2024 03:04:52 AM - Reading document ...\n",
      "04/19/2024 03:04:52 AM - HTTP Request: POST https://api.openai.com/v1/chat/completions \"HTTP/1.1 200 OK\"\n",
      "04/19/2024 03:04:54 AM - Reading document from string ...\n",
      "04/19/2024 03:04:54 AM - Reading document ...\n",
      "04/19/2024 03:04:56 AM - HTTP Request: POST https://api.openai.com/v1/chat/completions \"HTTP/1.1 200 OK\"\n",
      "04/19/2024 03:04:57 AM - Reading document from string ...\n",
      "04/19/2024 03:04:57 AM - Reading document ...\n",
      "04/19/2024 03:04:59 AM - HTTP Request: POST https://api.openai.com/v1/chat/completions \"HTTP/1.1 200 OK\"\n"
     ]
    },
    {
     "ename": "KeyboardInterrupt",
     "evalue": "",
     "output_type": "error",
     "traceback": [
      "\u001b[0;31m---------------------------------------------------------------------------\u001b[0m",
      "\u001b[0;31mKeyboardInterrupt\u001b[0m                         Traceback (most recent call last)",
      "Cell \u001b[0;32mIn[40], line 1\u001b[0m\n\u001b[0;32m----> 1\u001b[0m \u001b[43mgenerate_summary\u001b[49m\u001b[43m(\u001b[49m\u001b[38;5;124;43m'\u001b[39;49m\u001b[38;5;124;43mHaiti\u001b[39;49m\u001b[38;5;124;43m'\u001b[39;49m\u001b[43m,\u001b[49m\u001b[43m \u001b[49m\u001b[38;5;241;43m24\u001b[39;49m\u001b[43m)\u001b[49m\n",
      "Cell \u001b[0;32mIn[38], line 16\u001b[0m, in \u001b[0;36mgenerate_summary\u001b[0;34m(search_keyword, month_from_today, max_results)\u001b[0m\n\u001b[1;32m     13\u001b[0m \u001b[38;5;28;01mfor\u001b[39;00m item \u001b[38;5;129;01min\u001b[39;00m news_by_keyword:\n\u001b[1;32m     14\u001b[0m     \u001b[38;5;66;03m# Extract news content\u001b[39;00m\n\u001b[1;32m     15\u001b[0m     loader \u001b[38;5;241m=\u001b[39m UnstructuredURLLoader(urls\u001b[38;5;241m=\u001b[39m[item[\u001b[38;5;124m'\u001b[39m\u001b[38;5;124murl\u001b[39m\u001b[38;5;124m'\u001b[39m]])\n\u001b[0;32m---> 16\u001b[0m     docs \u001b[38;5;241m=\u001b[39m \u001b[43mloader\u001b[49m\u001b[38;5;241;43m.\u001b[39;49m\u001b[43mload\u001b[49m\u001b[43m(\u001b[49m\u001b[43m)\u001b[49m\n\u001b[1;32m     18\u001b[0m     \u001b[38;5;28;01mif\u001b[39;00m docs:\n\u001b[1;32m     19\u001b[0m         \u001b[38;5;66;03m# Summarize using stuff for easy processing\u001b[39;00m\n\u001b[1;32m     20\u001b[0m         chain \u001b[38;5;241m=\u001b[39m load_summarize_chain(llm,\n\u001b[1;32m     21\u001b[0m                                     chain_type\u001b[38;5;241m=\u001b[39m\u001b[38;5;124m\"\u001b[39m\u001b[38;5;124mstuff\u001b[39m\u001b[38;5;124m\"\u001b[39m,\n\u001b[1;32m     22\u001b[0m                                     prompt\u001b[38;5;241m=\u001b[39mprompt)\n",
      "File \u001b[0;32m~/micromamba/envs/llamachain/lib/python3.11/site-packages/langchain_community/document_loaders/url.py:131\u001b[0m, in \u001b[0;36mUnstructuredURLLoader.load\u001b[0;34m(self)\u001b[0m\n\u001b[1;32m    129\u001b[0m \u001b[38;5;28;01mif\u001b[39;00m \u001b[38;5;28mself\u001b[39m\u001b[38;5;241m.\u001b[39m__is_non_html_available():\n\u001b[1;32m    130\u001b[0m     \u001b[38;5;28;01mif\u001b[39;00m \u001b[38;5;28mself\u001b[39m\u001b[38;5;241m.\u001b[39m__is_headers_available_for_non_html():\n\u001b[0;32m--> 131\u001b[0m         elements \u001b[38;5;241m=\u001b[39m \u001b[43mpartition\u001b[49m\u001b[43m(\u001b[49m\n\u001b[1;32m    132\u001b[0m \u001b[43m            \u001b[49m\u001b[43murl\u001b[49m\u001b[38;5;241;43m=\u001b[39;49m\u001b[43murl\u001b[49m\u001b[43m,\u001b[49m\u001b[43m \u001b[49m\u001b[43mheaders\u001b[49m\u001b[38;5;241;43m=\u001b[39;49m\u001b[38;5;28;43mself\u001b[39;49m\u001b[38;5;241;43m.\u001b[39;49m\u001b[43mheaders\u001b[49m\u001b[43m,\u001b[49m\u001b[43m \u001b[49m\u001b[38;5;241;43m*\u001b[39;49m\u001b[38;5;241;43m*\u001b[39;49m\u001b[38;5;28;43mself\u001b[39;49m\u001b[38;5;241;43m.\u001b[39;49m\u001b[43munstructured_kwargs\u001b[49m\n\u001b[1;32m    133\u001b[0m \u001b[43m        \u001b[49m\u001b[43m)\u001b[49m\n\u001b[1;32m    134\u001b[0m     \u001b[38;5;28;01melse\u001b[39;00m:\n\u001b[1;32m    135\u001b[0m         elements \u001b[38;5;241m=\u001b[39m partition(url\u001b[38;5;241m=\u001b[39murl, \u001b[38;5;241m*\u001b[39m\u001b[38;5;241m*\u001b[39m\u001b[38;5;28mself\u001b[39m\u001b[38;5;241m.\u001b[39munstructured_kwargs)\n",
      "File \u001b[0;32m~/micromamba/envs/llamachain/lib/python3.11/site-packages/unstructured/partition/auto.py:273\u001b[0m, in \u001b[0;36mpartition\u001b[0;34m(filename, content_type, file, file_filename, url, include_page_breaks, strategy, encoding, paragraph_grouper, headers, skip_infer_table_types, ssl_verify, ocr_languages, languages, detect_language_per_element, pdf_infer_table_structure, extract_images_in_pdf, extract_image_block_types, extract_image_block_output_dir, extract_image_block_to_payload, xml_keep_tags, data_source_metadata, metadata_filename, request_timeout, hi_res_model_name, model_name, date_from_file_object, **kwargs)\u001b[0m\n\u001b[1;32m    270\u001b[0m languages \u001b[38;5;241m=\u001b[39m check_language_args(languages \u001b[38;5;129;01mor\u001b[39;00m [], ocr_languages)\n\u001b[1;32m    272\u001b[0m \u001b[38;5;28;01mif\u001b[39;00m url \u001b[38;5;129;01mis\u001b[39;00m \u001b[38;5;129;01mnot\u001b[39;00m \u001b[38;5;28;01mNone\u001b[39;00m:\n\u001b[0;32m--> 273\u001b[0m     file, filetype \u001b[38;5;241m=\u001b[39m \u001b[43mfile_and_type_from_url\u001b[49m\u001b[43m(\u001b[49m\n\u001b[1;32m    274\u001b[0m \u001b[43m        \u001b[49m\u001b[43murl\u001b[49m\u001b[38;5;241;43m=\u001b[39;49m\u001b[43murl\u001b[49m\u001b[43m,\u001b[49m\n\u001b[1;32m    275\u001b[0m \u001b[43m        \u001b[49m\u001b[43mcontent_type\u001b[49m\u001b[38;5;241;43m=\u001b[39;49m\u001b[43mcontent_type\u001b[49m\u001b[43m,\u001b[49m\n\u001b[1;32m    276\u001b[0m \u001b[43m        \u001b[49m\u001b[43mheaders\u001b[49m\u001b[38;5;241;43m=\u001b[39;49m\u001b[43mheaders\u001b[49m\u001b[43m,\u001b[49m\n\u001b[1;32m    277\u001b[0m \u001b[43m        \u001b[49m\u001b[43mssl_verify\u001b[49m\u001b[38;5;241;43m=\u001b[39;49m\u001b[43mssl_verify\u001b[49m\u001b[43m,\u001b[49m\n\u001b[1;32m    278\u001b[0m \u001b[43m        \u001b[49m\u001b[43mrequest_timeout\u001b[49m\u001b[38;5;241;43m=\u001b[39;49m\u001b[43mrequest_timeout\u001b[49m\u001b[43m,\u001b[49m\n\u001b[1;32m    279\u001b[0m \u001b[43m    \u001b[49m\u001b[43m)\u001b[49m\n\u001b[1;32m    280\u001b[0m \u001b[38;5;28;01melse\u001b[39;00m:\n\u001b[1;32m    281\u001b[0m     \u001b[38;5;28;01mif\u001b[39;00m headers \u001b[38;5;241m!=\u001b[39m {}:\n",
      "File \u001b[0;32m~/micromamba/envs/llamachain/lib/python3.11/site-packages/unstructured/partition/auto.py:553\u001b[0m, in \u001b[0;36mfile_and_type_from_url\u001b[0;34m(url, content_type, headers, ssl_verify, request_timeout)\u001b[0m\n\u001b[1;32m    546\u001b[0m \u001b[38;5;28;01mdef\u001b[39;00m \u001b[38;5;21mfile_and_type_from_url\u001b[39m(\n\u001b[1;32m    547\u001b[0m     url: \u001b[38;5;28mstr\u001b[39m,\n\u001b[1;32m    548\u001b[0m     content_type: Optional[\u001b[38;5;28mstr\u001b[39m] \u001b[38;5;241m=\u001b[39m \u001b[38;5;28;01mNone\u001b[39;00m,\n\u001b[0;32m   (...)\u001b[0m\n\u001b[1;32m    551\u001b[0m     request_timeout: Optional[\u001b[38;5;28mint\u001b[39m] \u001b[38;5;241m=\u001b[39m \u001b[38;5;28;01mNone\u001b[39;00m,\n\u001b[1;32m    552\u001b[0m ) \u001b[38;5;241m-\u001b[39m\u001b[38;5;241m>\u001b[39m Tuple[io\u001b[38;5;241m.\u001b[39mBytesIO, Optional[FileType]]:\n\u001b[0;32m--> 553\u001b[0m     response \u001b[38;5;241m=\u001b[39m \u001b[43mrequests\u001b[49m\u001b[38;5;241;43m.\u001b[39;49m\u001b[43mget\u001b[49m\u001b[43m(\u001b[49m\u001b[43murl\u001b[49m\u001b[43m,\u001b[49m\u001b[43m \u001b[49m\u001b[43mheaders\u001b[49m\u001b[38;5;241;43m=\u001b[39;49m\u001b[43mheaders\u001b[49m\u001b[43m,\u001b[49m\u001b[43m \u001b[49m\u001b[43mverify\u001b[49m\u001b[38;5;241;43m=\u001b[39;49m\u001b[43mssl_verify\u001b[49m\u001b[43m,\u001b[49m\u001b[43m \u001b[49m\u001b[43mtimeout\u001b[49m\u001b[38;5;241;43m=\u001b[39;49m\u001b[43mrequest_timeout\u001b[49m\u001b[43m)\u001b[49m\n\u001b[1;32m    554\u001b[0m     file \u001b[38;5;241m=\u001b[39m io\u001b[38;5;241m.\u001b[39mBytesIO(response\u001b[38;5;241m.\u001b[39mcontent)\n\u001b[1;32m    556\u001b[0m     content_type \u001b[38;5;241m=\u001b[39m content_type \u001b[38;5;129;01mor\u001b[39;00m response\u001b[38;5;241m.\u001b[39mheaders\u001b[38;5;241m.\u001b[39mget(\u001b[38;5;124m\"\u001b[39m\u001b[38;5;124mContent-Type\u001b[39m\u001b[38;5;124m\"\u001b[39m)\n",
      "File \u001b[0;32m~/micromamba/envs/llamachain/lib/python3.11/site-packages/requests/api.py:75\u001b[0m, in \u001b[0;36mget\u001b[0;34m(url, params, **kwargs)\u001b[0m\n\u001b[1;32m     64\u001b[0m \u001b[38;5;28;01mdef\u001b[39;00m \u001b[38;5;21mget\u001b[39m(url, params\u001b[38;5;241m=\u001b[39m\u001b[38;5;28;01mNone\u001b[39;00m, \u001b[38;5;241m*\u001b[39m\u001b[38;5;241m*\u001b[39mkwargs):\n\u001b[1;32m     65\u001b[0m \u001b[38;5;250m    \u001b[39m\u001b[38;5;124mr\u001b[39m\u001b[38;5;124;03m\"\"\"Sends a GET request.\u001b[39;00m\n\u001b[1;32m     66\u001b[0m \n\u001b[1;32m     67\u001b[0m \u001b[38;5;124;03m    :param url: URL for the new :class:`Request` object.\u001b[39;00m\n\u001b[0;32m   (...)\u001b[0m\n\u001b[1;32m     72\u001b[0m \u001b[38;5;124;03m    :rtype: requests.Response\u001b[39;00m\n\u001b[1;32m     73\u001b[0m \u001b[38;5;124;03m    \"\"\"\u001b[39;00m\n\u001b[0;32m---> 75\u001b[0m     \u001b[38;5;28;01mreturn\u001b[39;00m \u001b[43mrequest\u001b[49m\u001b[43m(\u001b[49m\u001b[38;5;124;43m'\u001b[39;49m\u001b[38;5;124;43mget\u001b[39;49m\u001b[38;5;124;43m'\u001b[39;49m\u001b[43m,\u001b[49m\u001b[43m \u001b[49m\u001b[43murl\u001b[49m\u001b[43m,\u001b[49m\u001b[43m \u001b[49m\u001b[43mparams\u001b[49m\u001b[38;5;241;43m=\u001b[39;49m\u001b[43mparams\u001b[49m\u001b[43m,\u001b[49m\u001b[43m \u001b[49m\u001b[38;5;241;43m*\u001b[39;49m\u001b[38;5;241;43m*\u001b[39;49m\u001b[43mkwargs\u001b[49m\u001b[43m)\u001b[49m\n",
      "File \u001b[0;32m~/micromamba/envs/llamachain/lib/python3.11/site-packages/requests/api.py:61\u001b[0m, in \u001b[0;36mrequest\u001b[0;34m(method, url, **kwargs)\u001b[0m\n\u001b[1;32m     57\u001b[0m \u001b[38;5;66;03m# By using the 'with' statement we are sure the session is closed, thus we\u001b[39;00m\n\u001b[1;32m     58\u001b[0m \u001b[38;5;66;03m# avoid leaving sockets open which can trigger a ResourceWarning in some\u001b[39;00m\n\u001b[1;32m     59\u001b[0m \u001b[38;5;66;03m# cases, and look like a memory leak in others.\u001b[39;00m\n\u001b[1;32m     60\u001b[0m \u001b[38;5;28;01mwith\u001b[39;00m sessions\u001b[38;5;241m.\u001b[39mSession() \u001b[38;5;28;01mas\u001b[39;00m session:\n\u001b[0;32m---> 61\u001b[0m     \u001b[38;5;28;01mreturn\u001b[39;00m \u001b[43msession\u001b[49m\u001b[38;5;241;43m.\u001b[39;49m\u001b[43mrequest\u001b[49m\u001b[43m(\u001b[49m\u001b[43mmethod\u001b[49m\u001b[38;5;241;43m=\u001b[39;49m\u001b[43mmethod\u001b[49m\u001b[43m,\u001b[49m\u001b[43m \u001b[49m\u001b[43murl\u001b[49m\u001b[38;5;241;43m=\u001b[39;49m\u001b[43murl\u001b[49m\u001b[43m,\u001b[49m\u001b[43m \u001b[49m\u001b[38;5;241;43m*\u001b[39;49m\u001b[38;5;241;43m*\u001b[39;49m\u001b[43mkwargs\u001b[49m\u001b[43m)\u001b[49m\n",
      "File \u001b[0;32m~/micromamba/envs/llamachain/lib/python3.11/site-packages/requests/sessions.py:542\u001b[0m, in \u001b[0;36mSession.request\u001b[0;34m(self, method, url, params, data, headers, cookies, files, auth, timeout, allow_redirects, proxies, hooks, stream, verify, cert, json)\u001b[0m\n\u001b[1;32m    537\u001b[0m send_kwargs \u001b[38;5;241m=\u001b[39m {\n\u001b[1;32m    538\u001b[0m     \u001b[38;5;124m'\u001b[39m\u001b[38;5;124mtimeout\u001b[39m\u001b[38;5;124m'\u001b[39m: timeout,\n\u001b[1;32m    539\u001b[0m     \u001b[38;5;124m'\u001b[39m\u001b[38;5;124mallow_redirects\u001b[39m\u001b[38;5;124m'\u001b[39m: allow_redirects,\n\u001b[1;32m    540\u001b[0m }\n\u001b[1;32m    541\u001b[0m send_kwargs\u001b[38;5;241m.\u001b[39mupdate(settings)\n\u001b[0;32m--> 542\u001b[0m resp \u001b[38;5;241m=\u001b[39m \u001b[38;5;28;43mself\u001b[39;49m\u001b[38;5;241;43m.\u001b[39;49m\u001b[43msend\u001b[49m\u001b[43m(\u001b[49m\u001b[43mprep\u001b[49m\u001b[43m,\u001b[49m\u001b[43m \u001b[49m\u001b[38;5;241;43m*\u001b[39;49m\u001b[38;5;241;43m*\u001b[39;49m\u001b[43msend_kwargs\u001b[49m\u001b[43m)\u001b[49m\n\u001b[1;32m    544\u001b[0m \u001b[38;5;28;01mreturn\u001b[39;00m resp\n",
      "File \u001b[0;32m~/micromamba/envs/llamachain/lib/python3.11/site-packages/requests/sessions.py:677\u001b[0m, in \u001b[0;36mSession.send\u001b[0;34m(self, request, **kwargs)\u001b[0m\n\u001b[1;32m    674\u001b[0m \u001b[38;5;28;01mif\u001b[39;00m allow_redirects:\n\u001b[1;32m    675\u001b[0m     \u001b[38;5;66;03m# Redirect resolving generator.\u001b[39;00m\n\u001b[1;32m    676\u001b[0m     gen \u001b[38;5;241m=\u001b[39m \u001b[38;5;28mself\u001b[39m\u001b[38;5;241m.\u001b[39mresolve_redirects(r, request, \u001b[38;5;241m*\u001b[39m\u001b[38;5;241m*\u001b[39mkwargs)\n\u001b[0;32m--> 677\u001b[0m     history \u001b[38;5;241m=\u001b[39m \u001b[43m[\u001b[49m\u001b[43mresp\u001b[49m\u001b[43m \u001b[49m\u001b[38;5;28;43;01mfor\u001b[39;49;00m\u001b[43m \u001b[49m\u001b[43mresp\u001b[49m\u001b[43m \u001b[49m\u001b[38;5;129;43;01min\u001b[39;49;00m\u001b[43m \u001b[49m\u001b[43mgen\u001b[49m\u001b[43m]\u001b[49m\n\u001b[1;32m    678\u001b[0m \u001b[38;5;28;01melse\u001b[39;00m:\n\u001b[1;32m    679\u001b[0m     history \u001b[38;5;241m=\u001b[39m []\n",
      "File \u001b[0;32m~/micromamba/envs/llamachain/lib/python3.11/site-packages/requests/sessions.py:677\u001b[0m, in \u001b[0;36m<listcomp>\u001b[0;34m(.0)\u001b[0m\n\u001b[1;32m    674\u001b[0m \u001b[38;5;28;01mif\u001b[39;00m allow_redirects:\n\u001b[1;32m    675\u001b[0m     \u001b[38;5;66;03m# Redirect resolving generator.\u001b[39;00m\n\u001b[1;32m    676\u001b[0m     gen \u001b[38;5;241m=\u001b[39m \u001b[38;5;28mself\u001b[39m\u001b[38;5;241m.\u001b[39mresolve_redirects(r, request, \u001b[38;5;241m*\u001b[39m\u001b[38;5;241m*\u001b[39mkwargs)\n\u001b[0;32m--> 677\u001b[0m     history \u001b[38;5;241m=\u001b[39m \u001b[43m[\u001b[49m\u001b[43mresp\u001b[49m\u001b[43m \u001b[49m\u001b[38;5;28;43;01mfor\u001b[39;49;00m\u001b[43m \u001b[49m\u001b[43mresp\u001b[49m\u001b[43m \u001b[49m\u001b[38;5;129;43;01min\u001b[39;49;00m\u001b[43m \u001b[49m\u001b[43mgen\u001b[49m\u001b[43m]\u001b[49m\n\u001b[1;32m    678\u001b[0m \u001b[38;5;28;01melse\u001b[39;00m:\n\u001b[1;32m    679\u001b[0m     history \u001b[38;5;241m=\u001b[39m []\n",
      "File \u001b[0;32m~/micromamba/envs/llamachain/lib/python3.11/site-packages/requests/sessions.py:237\u001b[0m, in \u001b[0;36mSessionRedirectMixin.resolve_redirects\u001b[0;34m(self, resp, req, stream, timeout, verify, cert, proxies, yield_requests, **adapter_kwargs)\u001b[0m\n\u001b[1;32m    234\u001b[0m     \u001b[38;5;28;01myield\u001b[39;00m req\n\u001b[1;32m    235\u001b[0m \u001b[38;5;28;01melse\u001b[39;00m:\n\u001b[0;32m--> 237\u001b[0m     resp \u001b[38;5;241m=\u001b[39m \u001b[38;5;28;43mself\u001b[39;49m\u001b[38;5;241;43m.\u001b[39;49m\u001b[43msend\u001b[49m\u001b[43m(\u001b[49m\n\u001b[1;32m    238\u001b[0m \u001b[43m        \u001b[49m\u001b[43mreq\u001b[49m\u001b[43m,\u001b[49m\n\u001b[1;32m    239\u001b[0m \u001b[43m        \u001b[49m\u001b[43mstream\u001b[49m\u001b[38;5;241;43m=\u001b[39;49m\u001b[43mstream\u001b[49m\u001b[43m,\u001b[49m\n\u001b[1;32m    240\u001b[0m \u001b[43m        \u001b[49m\u001b[43mtimeout\u001b[49m\u001b[38;5;241;43m=\u001b[39;49m\u001b[43mtimeout\u001b[49m\u001b[43m,\u001b[49m\n\u001b[1;32m    241\u001b[0m \u001b[43m        \u001b[49m\u001b[43mverify\u001b[49m\u001b[38;5;241;43m=\u001b[39;49m\u001b[43mverify\u001b[49m\u001b[43m,\u001b[49m\n\u001b[1;32m    242\u001b[0m \u001b[43m        \u001b[49m\u001b[43mcert\u001b[49m\u001b[38;5;241;43m=\u001b[39;49m\u001b[43mcert\u001b[49m\u001b[43m,\u001b[49m\n\u001b[1;32m    243\u001b[0m \u001b[43m        \u001b[49m\u001b[43mproxies\u001b[49m\u001b[38;5;241;43m=\u001b[39;49m\u001b[43mproxies\u001b[49m\u001b[43m,\u001b[49m\n\u001b[1;32m    244\u001b[0m \u001b[43m        \u001b[49m\u001b[43mallow_redirects\u001b[49m\u001b[38;5;241;43m=\u001b[39;49m\u001b[38;5;28;43;01mFalse\u001b[39;49;00m\u001b[43m,\u001b[49m\n\u001b[1;32m    245\u001b[0m \u001b[43m        \u001b[49m\u001b[38;5;241;43m*\u001b[39;49m\u001b[38;5;241;43m*\u001b[39;49m\u001b[43madapter_kwargs\u001b[49m\n\u001b[1;32m    246\u001b[0m \u001b[43m    \u001b[49m\u001b[43m)\u001b[49m\n\u001b[1;32m    248\u001b[0m     extract_cookies_to_jar(\u001b[38;5;28mself\u001b[39m\u001b[38;5;241m.\u001b[39mcookies, prepared_request, resp\u001b[38;5;241m.\u001b[39mraw)\n\u001b[1;32m    250\u001b[0m     \u001b[38;5;66;03m# extract redirect url, if any, for the next loop\u001b[39;00m\n",
      "File \u001b[0;32m~/micromamba/envs/llamachain/lib/python3.11/site-packages/requests/sessions.py:655\u001b[0m, in \u001b[0;36mSession.send\u001b[0;34m(self, request, **kwargs)\u001b[0m\n\u001b[1;32m    652\u001b[0m start \u001b[38;5;241m=\u001b[39m preferred_clock()\n\u001b[1;32m    654\u001b[0m \u001b[38;5;66;03m# Send the request\u001b[39;00m\n\u001b[0;32m--> 655\u001b[0m r \u001b[38;5;241m=\u001b[39m \u001b[43madapter\u001b[49m\u001b[38;5;241;43m.\u001b[39;49m\u001b[43msend\u001b[49m\u001b[43m(\u001b[49m\u001b[43mrequest\u001b[49m\u001b[43m,\u001b[49m\u001b[43m \u001b[49m\u001b[38;5;241;43m*\u001b[39;49m\u001b[38;5;241;43m*\u001b[39;49m\u001b[43mkwargs\u001b[49m\u001b[43m)\u001b[49m\n\u001b[1;32m    657\u001b[0m \u001b[38;5;66;03m# Total elapsed time of the request (approximately)\u001b[39;00m\n\u001b[1;32m    658\u001b[0m elapsed \u001b[38;5;241m=\u001b[39m preferred_clock() \u001b[38;5;241m-\u001b[39m start\n",
      "File \u001b[0;32m~/micromamba/envs/llamachain/lib/python3.11/site-packages/requests/adapters.py:439\u001b[0m, in \u001b[0;36mHTTPAdapter.send\u001b[0;34m(self, request, stream, timeout, verify, cert, proxies)\u001b[0m\n\u001b[1;32m    437\u001b[0m \u001b[38;5;28;01mtry\u001b[39;00m:\n\u001b[1;32m    438\u001b[0m     \u001b[38;5;28;01mif\u001b[39;00m \u001b[38;5;129;01mnot\u001b[39;00m chunked:\n\u001b[0;32m--> 439\u001b[0m         resp \u001b[38;5;241m=\u001b[39m \u001b[43mconn\u001b[49m\u001b[38;5;241;43m.\u001b[39;49m\u001b[43murlopen\u001b[49m\u001b[43m(\u001b[49m\n\u001b[1;32m    440\u001b[0m \u001b[43m            \u001b[49m\u001b[43mmethod\u001b[49m\u001b[38;5;241;43m=\u001b[39;49m\u001b[43mrequest\u001b[49m\u001b[38;5;241;43m.\u001b[39;49m\u001b[43mmethod\u001b[49m\u001b[43m,\u001b[49m\n\u001b[1;32m    441\u001b[0m \u001b[43m            \u001b[49m\u001b[43murl\u001b[49m\u001b[38;5;241;43m=\u001b[39;49m\u001b[43murl\u001b[49m\u001b[43m,\u001b[49m\n\u001b[1;32m    442\u001b[0m \u001b[43m            \u001b[49m\u001b[43mbody\u001b[49m\u001b[38;5;241;43m=\u001b[39;49m\u001b[43mrequest\u001b[49m\u001b[38;5;241;43m.\u001b[39;49m\u001b[43mbody\u001b[49m\u001b[43m,\u001b[49m\n\u001b[1;32m    443\u001b[0m \u001b[43m            \u001b[49m\u001b[43mheaders\u001b[49m\u001b[38;5;241;43m=\u001b[39;49m\u001b[43mrequest\u001b[49m\u001b[38;5;241;43m.\u001b[39;49m\u001b[43mheaders\u001b[49m\u001b[43m,\u001b[49m\n\u001b[1;32m    444\u001b[0m \u001b[43m            \u001b[49m\u001b[43mredirect\u001b[49m\u001b[38;5;241;43m=\u001b[39;49m\u001b[38;5;28;43;01mFalse\u001b[39;49;00m\u001b[43m,\u001b[49m\n\u001b[1;32m    445\u001b[0m \u001b[43m            \u001b[49m\u001b[43massert_same_host\u001b[49m\u001b[38;5;241;43m=\u001b[39;49m\u001b[38;5;28;43;01mFalse\u001b[39;49;00m\u001b[43m,\u001b[49m\n\u001b[1;32m    446\u001b[0m \u001b[43m            \u001b[49m\u001b[43mpreload_content\u001b[49m\u001b[38;5;241;43m=\u001b[39;49m\u001b[38;5;28;43;01mFalse\u001b[39;49;00m\u001b[43m,\u001b[49m\n\u001b[1;32m    447\u001b[0m \u001b[43m            \u001b[49m\u001b[43mdecode_content\u001b[49m\u001b[38;5;241;43m=\u001b[39;49m\u001b[38;5;28;43;01mFalse\u001b[39;49;00m\u001b[43m,\u001b[49m\n\u001b[1;32m    448\u001b[0m \u001b[43m            \u001b[49m\u001b[43mretries\u001b[49m\u001b[38;5;241;43m=\u001b[39;49m\u001b[38;5;28;43mself\u001b[39;49m\u001b[38;5;241;43m.\u001b[39;49m\u001b[43mmax_retries\u001b[49m\u001b[43m,\u001b[49m\n\u001b[1;32m    449\u001b[0m \u001b[43m            \u001b[49m\u001b[43mtimeout\u001b[49m\u001b[38;5;241;43m=\u001b[39;49m\u001b[43mtimeout\u001b[49m\n\u001b[1;32m    450\u001b[0m \u001b[43m        \u001b[49m\u001b[43m)\u001b[49m\n\u001b[1;32m    452\u001b[0m     \u001b[38;5;66;03m# Send the request.\u001b[39;00m\n\u001b[1;32m    453\u001b[0m     \u001b[38;5;28;01melse\u001b[39;00m:\n\u001b[1;32m    454\u001b[0m         \u001b[38;5;28;01mif\u001b[39;00m \u001b[38;5;28mhasattr\u001b[39m(conn, \u001b[38;5;124m'\u001b[39m\u001b[38;5;124mproxy_pool\u001b[39m\u001b[38;5;124m'\u001b[39m):\n",
      "File \u001b[0;32m~/micromamba/envs/llamachain/lib/python3.11/site-packages/urllib3/connectionpool.py:715\u001b[0m, in \u001b[0;36mHTTPConnectionPool.urlopen\u001b[0;34m(self, method, url, body, headers, retries, redirect, assert_same_host, timeout, pool_timeout, release_conn, chunked, body_pos, **response_kw)\u001b[0m\n\u001b[1;32m    712\u001b[0m     \u001b[38;5;28mself\u001b[39m\u001b[38;5;241m.\u001b[39m_prepare_proxy(conn)\n\u001b[1;32m    714\u001b[0m \u001b[38;5;66;03m# Make the request on the httplib connection object.\u001b[39;00m\n\u001b[0;32m--> 715\u001b[0m httplib_response \u001b[38;5;241m=\u001b[39m \u001b[38;5;28;43mself\u001b[39;49m\u001b[38;5;241;43m.\u001b[39;49m\u001b[43m_make_request\u001b[49m\u001b[43m(\u001b[49m\n\u001b[1;32m    716\u001b[0m \u001b[43m    \u001b[49m\u001b[43mconn\u001b[49m\u001b[43m,\u001b[49m\n\u001b[1;32m    717\u001b[0m \u001b[43m    \u001b[49m\u001b[43mmethod\u001b[49m\u001b[43m,\u001b[49m\n\u001b[1;32m    718\u001b[0m \u001b[43m    \u001b[49m\u001b[43murl\u001b[49m\u001b[43m,\u001b[49m\n\u001b[1;32m    719\u001b[0m \u001b[43m    \u001b[49m\u001b[43mtimeout\u001b[49m\u001b[38;5;241;43m=\u001b[39;49m\u001b[43mtimeout_obj\u001b[49m\u001b[43m,\u001b[49m\n\u001b[1;32m    720\u001b[0m \u001b[43m    \u001b[49m\u001b[43mbody\u001b[49m\u001b[38;5;241;43m=\u001b[39;49m\u001b[43mbody\u001b[49m\u001b[43m,\u001b[49m\n\u001b[1;32m    721\u001b[0m \u001b[43m    \u001b[49m\u001b[43mheaders\u001b[49m\u001b[38;5;241;43m=\u001b[39;49m\u001b[43mheaders\u001b[49m\u001b[43m,\u001b[49m\n\u001b[1;32m    722\u001b[0m \u001b[43m    \u001b[49m\u001b[43mchunked\u001b[49m\u001b[38;5;241;43m=\u001b[39;49m\u001b[43mchunked\u001b[49m\u001b[43m,\u001b[49m\n\u001b[1;32m    723\u001b[0m \u001b[43m\u001b[49m\u001b[43m)\u001b[49m\n\u001b[1;32m    725\u001b[0m \u001b[38;5;66;03m# If we're going to release the connection in ``finally:``, then\u001b[39;00m\n\u001b[1;32m    726\u001b[0m \u001b[38;5;66;03m# the response doesn't need to know about the connection. Otherwise\u001b[39;00m\n\u001b[1;32m    727\u001b[0m \u001b[38;5;66;03m# it will also try to release it and we'll have a double-release\u001b[39;00m\n\u001b[1;32m    728\u001b[0m \u001b[38;5;66;03m# mess.\u001b[39;00m\n\u001b[1;32m    729\u001b[0m response_conn \u001b[38;5;241m=\u001b[39m conn \u001b[38;5;28;01mif\u001b[39;00m \u001b[38;5;129;01mnot\u001b[39;00m release_conn \u001b[38;5;28;01melse\u001b[39;00m \u001b[38;5;28;01mNone\u001b[39;00m\n",
      "File \u001b[0;32m~/micromamba/envs/llamachain/lib/python3.11/site-packages/urllib3/connectionpool.py:467\u001b[0m, in \u001b[0;36mHTTPConnectionPool._make_request\u001b[0;34m(self, conn, method, url, timeout, chunked, **httplib_request_kw)\u001b[0m\n\u001b[1;32m    462\u001b[0m             httplib_response \u001b[38;5;241m=\u001b[39m conn\u001b[38;5;241m.\u001b[39mgetresponse()\n\u001b[1;32m    463\u001b[0m         \u001b[38;5;28;01mexcept\u001b[39;00m \u001b[38;5;167;01mBaseException\u001b[39;00m \u001b[38;5;28;01mas\u001b[39;00m e:\n\u001b[1;32m    464\u001b[0m             \u001b[38;5;66;03m# Remove the TypeError from the exception chain in\u001b[39;00m\n\u001b[1;32m    465\u001b[0m             \u001b[38;5;66;03m# Python 3 (including for exceptions like SystemExit).\u001b[39;00m\n\u001b[1;32m    466\u001b[0m             \u001b[38;5;66;03m# Otherwise it looks like a bug in the code.\u001b[39;00m\n\u001b[0;32m--> 467\u001b[0m             \u001b[43msix\u001b[49m\u001b[38;5;241;43m.\u001b[39;49m\u001b[43mraise_from\u001b[49m\u001b[43m(\u001b[49m\u001b[43me\u001b[49m\u001b[43m,\u001b[49m\u001b[43m \u001b[49m\u001b[38;5;28;43;01mNone\u001b[39;49;00m\u001b[43m)\u001b[49m\n\u001b[1;32m    468\u001b[0m \u001b[38;5;28;01mexcept\u001b[39;00m (SocketTimeout, BaseSSLError, SocketError) \u001b[38;5;28;01mas\u001b[39;00m e:\n\u001b[1;32m    469\u001b[0m     \u001b[38;5;28mself\u001b[39m\u001b[38;5;241m.\u001b[39m_raise_timeout(err\u001b[38;5;241m=\u001b[39me, url\u001b[38;5;241m=\u001b[39murl, timeout_value\u001b[38;5;241m=\u001b[39mread_timeout)\n",
      "File \u001b[0;32m<string>:3\u001b[0m, in \u001b[0;36mraise_from\u001b[0;34m(value, from_value)\u001b[0m\n",
      "File \u001b[0;32m~/micromamba/envs/llamachain/lib/python3.11/site-packages/urllib3/connectionpool.py:462\u001b[0m, in \u001b[0;36mHTTPConnectionPool._make_request\u001b[0;34m(self, conn, method, url, timeout, chunked, **httplib_request_kw)\u001b[0m\n\u001b[1;32m    459\u001b[0m \u001b[38;5;28;01mexcept\u001b[39;00m \u001b[38;5;167;01mTypeError\u001b[39;00m:\n\u001b[1;32m    460\u001b[0m     \u001b[38;5;66;03m# Python 3\u001b[39;00m\n\u001b[1;32m    461\u001b[0m     \u001b[38;5;28;01mtry\u001b[39;00m:\n\u001b[0;32m--> 462\u001b[0m         httplib_response \u001b[38;5;241m=\u001b[39m \u001b[43mconn\u001b[49m\u001b[38;5;241;43m.\u001b[39;49m\u001b[43mgetresponse\u001b[49m\u001b[43m(\u001b[49m\u001b[43m)\u001b[49m\n\u001b[1;32m    463\u001b[0m     \u001b[38;5;28;01mexcept\u001b[39;00m \u001b[38;5;167;01mBaseException\u001b[39;00m \u001b[38;5;28;01mas\u001b[39;00m e:\n\u001b[1;32m    464\u001b[0m         \u001b[38;5;66;03m# Remove the TypeError from the exception chain in\u001b[39;00m\n\u001b[1;32m    465\u001b[0m         \u001b[38;5;66;03m# Python 3 (including for exceptions like SystemExit).\u001b[39;00m\n\u001b[1;32m    466\u001b[0m         \u001b[38;5;66;03m# Otherwise it looks like a bug in the code.\u001b[39;00m\n\u001b[1;32m    467\u001b[0m         six\u001b[38;5;241m.\u001b[39mraise_from(e, \u001b[38;5;28;01mNone\u001b[39;00m)\n",
      "File \u001b[0;32m~/micromamba/envs/llamachain/lib/python3.11/http/client.py:1390\u001b[0m, in \u001b[0;36mHTTPConnection.getresponse\u001b[0;34m(self)\u001b[0m\n\u001b[1;32m   1388\u001b[0m \u001b[38;5;28;01mtry\u001b[39;00m:\n\u001b[1;32m   1389\u001b[0m     \u001b[38;5;28;01mtry\u001b[39;00m:\n\u001b[0;32m-> 1390\u001b[0m         \u001b[43mresponse\u001b[49m\u001b[38;5;241;43m.\u001b[39;49m\u001b[43mbegin\u001b[49m\u001b[43m(\u001b[49m\u001b[43m)\u001b[49m\n\u001b[1;32m   1391\u001b[0m     \u001b[38;5;28;01mexcept\u001b[39;00m \u001b[38;5;167;01mConnectionError\u001b[39;00m:\n\u001b[1;32m   1392\u001b[0m         \u001b[38;5;28mself\u001b[39m\u001b[38;5;241m.\u001b[39mclose()\n",
      "File \u001b[0;32m~/micromamba/envs/llamachain/lib/python3.11/http/client.py:325\u001b[0m, in \u001b[0;36mHTTPResponse.begin\u001b[0;34m(self)\u001b[0m\n\u001b[1;32m    323\u001b[0m \u001b[38;5;66;03m# read until we get a non-100 response\u001b[39;00m\n\u001b[1;32m    324\u001b[0m \u001b[38;5;28;01mwhile\u001b[39;00m \u001b[38;5;28;01mTrue\u001b[39;00m:\n\u001b[0;32m--> 325\u001b[0m     version, status, reason \u001b[38;5;241m=\u001b[39m \u001b[38;5;28;43mself\u001b[39;49m\u001b[38;5;241;43m.\u001b[39;49m\u001b[43m_read_status\u001b[49m\u001b[43m(\u001b[49m\u001b[43m)\u001b[49m\n\u001b[1;32m    326\u001b[0m     \u001b[38;5;28;01mif\u001b[39;00m status \u001b[38;5;241m!=\u001b[39m CONTINUE:\n\u001b[1;32m    327\u001b[0m         \u001b[38;5;28;01mbreak\u001b[39;00m\n",
      "File \u001b[0;32m~/micromamba/envs/llamachain/lib/python3.11/http/client.py:286\u001b[0m, in \u001b[0;36mHTTPResponse._read_status\u001b[0;34m(self)\u001b[0m\n\u001b[1;32m    285\u001b[0m \u001b[38;5;28;01mdef\u001b[39;00m \u001b[38;5;21m_read_status\u001b[39m(\u001b[38;5;28mself\u001b[39m):\n\u001b[0;32m--> 286\u001b[0m     line \u001b[38;5;241m=\u001b[39m \u001b[38;5;28mstr\u001b[39m(\u001b[38;5;28mself\u001b[39m\u001b[38;5;241m.\u001b[39mfp\u001b[38;5;241m.\u001b[39mreadline(_MAXLINE \u001b[38;5;241m+\u001b[39m \u001b[38;5;241m1\u001b[39m), \u001b[38;5;124m\"\u001b[39m\u001b[38;5;124miso-8859-1\u001b[39m\u001b[38;5;124m\"\u001b[39m)\n\u001b[1;32m    287\u001b[0m     \u001b[38;5;28;01mif\u001b[39;00m \u001b[38;5;28mlen\u001b[39m(line) \u001b[38;5;241m>\u001b[39m _MAXLINE:\n\u001b[1;32m    288\u001b[0m         \u001b[38;5;28;01mraise\u001b[39;00m LineTooLong(\u001b[38;5;124m\"\u001b[39m\u001b[38;5;124mstatus line\u001b[39m\u001b[38;5;124m\"\u001b[39m)\n",
      "File \u001b[0;32m~/micromamba/envs/llamachain/lib/python3.11/socket.py:706\u001b[0m, in \u001b[0;36mSocketIO.readinto\u001b[0;34m(self, b)\u001b[0m\n\u001b[1;32m    704\u001b[0m \u001b[38;5;28;01mwhile\u001b[39;00m \u001b[38;5;28;01mTrue\u001b[39;00m:\n\u001b[1;32m    705\u001b[0m     \u001b[38;5;28;01mtry\u001b[39;00m:\n\u001b[0;32m--> 706\u001b[0m         \u001b[38;5;28;01mreturn\u001b[39;00m \u001b[38;5;28;43mself\u001b[39;49m\u001b[38;5;241;43m.\u001b[39;49m\u001b[43m_sock\u001b[49m\u001b[38;5;241;43m.\u001b[39;49m\u001b[43mrecv_into\u001b[49m\u001b[43m(\u001b[49m\u001b[43mb\u001b[49m\u001b[43m)\u001b[49m\n\u001b[1;32m    707\u001b[0m     \u001b[38;5;28;01mexcept\u001b[39;00m timeout:\n\u001b[1;32m    708\u001b[0m         \u001b[38;5;28mself\u001b[39m\u001b[38;5;241m.\u001b[39m_timeout_occurred \u001b[38;5;241m=\u001b[39m \u001b[38;5;28;01mTrue\u001b[39;00m\n",
      "File \u001b[0;32m~/micromamba/envs/llamachain/lib/python3.11/ssl.py:1314\u001b[0m, in \u001b[0;36mSSLSocket.recv_into\u001b[0;34m(self, buffer, nbytes, flags)\u001b[0m\n\u001b[1;32m   1310\u001b[0m     \u001b[38;5;28;01mif\u001b[39;00m flags \u001b[38;5;241m!=\u001b[39m \u001b[38;5;241m0\u001b[39m:\n\u001b[1;32m   1311\u001b[0m         \u001b[38;5;28;01mraise\u001b[39;00m \u001b[38;5;167;01mValueError\u001b[39;00m(\n\u001b[1;32m   1312\u001b[0m           \u001b[38;5;124m\"\u001b[39m\u001b[38;5;124mnon-zero flags not allowed in calls to recv_into() on \u001b[39m\u001b[38;5;132;01m%s\u001b[39;00m\u001b[38;5;124m\"\u001b[39m \u001b[38;5;241m%\u001b[39m\n\u001b[1;32m   1313\u001b[0m           \u001b[38;5;28mself\u001b[39m\u001b[38;5;241m.\u001b[39m\u001b[38;5;18m__class__\u001b[39m)\n\u001b[0;32m-> 1314\u001b[0m     \u001b[38;5;28;01mreturn\u001b[39;00m \u001b[38;5;28;43mself\u001b[39;49m\u001b[38;5;241;43m.\u001b[39;49m\u001b[43mread\u001b[49m\u001b[43m(\u001b[49m\u001b[43mnbytes\u001b[49m\u001b[43m,\u001b[49m\u001b[43m \u001b[49m\u001b[43mbuffer\u001b[49m\u001b[43m)\u001b[49m\n\u001b[1;32m   1315\u001b[0m \u001b[38;5;28;01melse\u001b[39;00m:\n\u001b[1;32m   1316\u001b[0m     \u001b[38;5;28;01mreturn\u001b[39;00m \u001b[38;5;28msuper\u001b[39m()\u001b[38;5;241m.\u001b[39mrecv_into(buffer, nbytes, flags)\n",
      "File \u001b[0;32m~/micromamba/envs/llamachain/lib/python3.11/ssl.py:1166\u001b[0m, in \u001b[0;36mSSLSocket.read\u001b[0;34m(self, len, buffer)\u001b[0m\n\u001b[1;32m   1164\u001b[0m \u001b[38;5;28;01mtry\u001b[39;00m:\n\u001b[1;32m   1165\u001b[0m     \u001b[38;5;28;01mif\u001b[39;00m buffer \u001b[38;5;129;01mis\u001b[39;00m \u001b[38;5;129;01mnot\u001b[39;00m \u001b[38;5;28;01mNone\u001b[39;00m:\n\u001b[0;32m-> 1166\u001b[0m         \u001b[38;5;28;01mreturn\u001b[39;00m \u001b[38;5;28;43mself\u001b[39;49m\u001b[38;5;241;43m.\u001b[39;49m\u001b[43m_sslobj\u001b[49m\u001b[38;5;241;43m.\u001b[39;49m\u001b[43mread\u001b[49m\u001b[43m(\u001b[49m\u001b[38;5;28;43mlen\u001b[39;49m\u001b[43m,\u001b[49m\u001b[43m \u001b[49m\u001b[43mbuffer\u001b[49m\u001b[43m)\u001b[49m\n\u001b[1;32m   1167\u001b[0m     \u001b[38;5;28;01melse\u001b[39;00m:\n\u001b[1;32m   1168\u001b[0m         \u001b[38;5;28;01mreturn\u001b[39;00m \u001b[38;5;28mself\u001b[39m\u001b[38;5;241m.\u001b[39m_sslobj\u001b[38;5;241m.\u001b[39mread(\u001b[38;5;28mlen\u001b[39m)\n",
      "\u001b[0;31mKeyboardInterrupt\u001b[0m: "
     ]
    }
   ],
   "source": [
    "generate_summary('Haiti', 24)"
   ]
  },
  {
   "cell_type": "code",
   "execution_count": 12,
   "metadata": {},
   "outputs": [
    {
     "name": "stdout",
     "output_type": "stream",
     "text": [
      "Lok Sabha election 2024: India begins voting in mammoth polls - The Associated Press\n",
      "https://apnews.com/article/india-election-voting-begins-7ea0983c9b7bc7506c8457f44afcfd64\n"
     ]
    },
    {
     "name": "stderr",
     "output_type": "stream",
     "text": [
      "04/18/2024 04:20:27 AM - Reading document from string ...\n",
      "04/18/2024 04:20:27 AM - Reading document ...\n"
     ]
    },
    {
     "name": "stdout",
     "output_type": "stream",
     "text": [
      "[Document(page_content='By\\xa0\\n\\nASHOK SHARMA and\\n\\nKRUTIKA PATHI\\n\\n\\n                    Share\\n                    \\n\\nCopy\\n    Link copied\\n\\nEmail\\n\\nFacebook\\n\\nX\\n\\nReddit\\n\\nLinkedIn\\n\\nPinterest\\n\\nFlipboard\\n\\nPrint\\n\\nNEW DELHI (AP) — Millions of Indians began voting Friday in a six-week election that’s a referendum on Narendra Modi, the populist prime minister who has championed an assertive brand of Hindu nationalist politics and is seeking a rare third term as the country’s leader.\\n\\nPeople began queuing up at polling stations hours before they were allowed in at 7 a.m. in the first 21 states to hold votes, from the Himalayan mountains to the tropical Andaman Islands. Nearly 970 million voters — more than 10% of the world’s population — will elect 543 members to the lower house of Parliament for five years during the staggered elections that run until June 1. The votes will be counted on June 4.\\n\\nThis election is seen as one of the most consequential in India’s history and will test the limits of Modi’s political dominance.\\n\\nA Deori tribal woman shows the indelible ink mark on her finger after casting her vote during the first round of polling of India’s national election in Jorhat, India, Friday, April 19, 2024. (AP Photo/Anupam Nath)\\n\\nIf Modi wins, he’ll be only the second Indian leader to retain power for a third term, after Jawaharlal Nehru, the country’s first prime minister.\\n\\nMost polls predict a win for Modi and his Hindu nationalist Bharatiya Janata Party, who are up against a broad opposition alliance led by the Indian National Congress and powerful regional parties.\\n\\nIt’s not clear who will lead India if the opposition alliance, called INDIA, wins the election. Its more than 20 parties have not put forward a candidate yet.\\n\\nThe BJP controls much of India’s Hindi-speaking northern and central parts, but is now trying to gain a foothold in the east and south. Their toughest challenge is in the southern Tamil Nadu state, with 39 seats, where voting is being held Friday.\\n\\nVoters in hot and humid Chennai, the state’s capital, began briskly filling the city’s nearly 4,000 polling booths. A number of them said they were voting for a change in federal government given rising prices, unemployment and religious polarization stoked by the BJP.\\n\\nWomen wait to cast their votes during the first round of polling of India’s national election in Chennai, southern Tamil Nadu state, Friday, April 19, 2024. (AP Photo/Altaf Qadri)\\n\\n“First thing I came to vote for is to have a country without any religious disharmony. In Tamil Nadu — Hindus, Muslims, Christians, we’re all together. And this unity should grow,” said 65-year-old Mary Das, who was waiting to vote.\\n\\nP. Chidambaram, an opposition Congress party leader and the country’s former finance minister, said that the people of Tamil Nadu would not vote for the BJP as “it is imposing one language, one culture, one system and one kind of food.”\\n\\nThe BJP has long struggled to capture votes in the state, where two powerful regional parties — the Dravida Munnetra Kazhagam and All India Anna Dravida Munnetra Kazhagam — dominate. The BJP drew a blank in 2019, and won one seat in 2014.\\n\\nIn Rajasthan, people returning from polling stations covered their heads against dusty winds.\\n\\n“If the new government is able to solve unemployment, then it will be good. People are migrating from this region to earn a living,” said Atinder Singh, 26.\\n\\nWomen wait to cast their votes during the first round of voting of India’s national election in Behror, Rajasthan state, India, Friday, April 19, 2024. (AP Photo/Manish Swarup)\\n\\nVoting is also taking place in the northeastern state of Manipur, where a near-civil war for a year has triggered ethnic violence. Mobs have rampaged through villages and torched houses, and more than 150 people have been killed.\\n\\nThe election comes after a decade of Modi’s leadership, during which the BJP has consolidated power through a combination of Hindu-first politics and economic development.\\n\\nModi has ratcheted up Hindu nationalist rhetoric on the campaign trail, and has sought to present himself as a global leader. His ministers tout him as the steward of a surging India, while his supporters celebrate his campaign promise to make India a developed nation by 2047, when it marks 100 years of independence.\\n\\nBut while India’s economy is among the world’s fastest-growing, many of its people face growing economic distress. The opposition alliance is hoping to tap into this, seeking to galvanize voters on issues like high unemployment, inflation, corruption and low agricultural prices that have driven two years of farmers’ protests.\\n\\nThe opposition — and critics — also warn that Modi has turned increasingly illiberal. They accuse Modi of using tax authorities and the police to harass the opposition, and they fear a third term could undermine India’s democracy. His Hindu nationalist politics, they argue, has bred intolerance and threatens the country’s secular roots.\\n\\n“Modi has a very authoritarian mindset. He doesn’t believe in democracy. He doesn’t believe in Parliamentarianism,” said Christophe Jaffrelot, a political scientist who has written about Modi and the Hindu right.\\n\\nModi insists that India’s commitment to democracy is unchanged. He told a Summit for Democracy meeting in New Delhi in March that “India is not only fulfilling the aspirations of its 1.4 billion people, but is also providing hope to the world that democracy delivers and empowers.”\\n\\nThe Indian leader, who enjoys vast popularity, is targeting a two-thirds majority this time.\\n\\nThe BJP hopes for a landslide win powered by its popular welfare programs, which it says have improved access to clean toilets, health care and cooking gas, as well as providing free grain to the poor. Moves like the construction of a controversial temple to Ram on the site of a demolished mosque, and the scrapping of the disputed Muslim-majority region of Kashmir’s former autonomy, may resonate with supporters who hail him as the champion of the Hindu majority.\\n\\n“Any party that comes back for a third term, and with a brute majority, is a scary prospect for democracy,” said Arati Jerath, a political commentator.\\n\\nModi’s two terms have seen civil liberties in India come under attack, while implementing what critics say are discriminatory policies. Peaceful protests have been crushed with force. A once free and diverse press is threatened, violence is on the rise against the Muslim minority, and government agencies have arrested opposition politicians in alleged corruption cases.\\n\\nThe BJP has denied its policies are discriminatory and says its work benefits all Indians.\\n\\nWomen wait to cast their votes as one of them stands behind a selfie point during the first round of voting of India’s national election in Behror, Rajasthan state, India, Friday, April 19, 2024. (AP Photo/Manish Swarup)\\n\\nAn elederly Deori tribal woman arrives as others of her tribe stand in a queue to cast their vote during the first round of polling of India’s national election in Jorhat, India, Friday, April 19, 2024. (AP Photo/Anupam Nath)\\n\\nPeople wait to cast their votes during the first round of polling of India’s national election in Chennai, southern Tamil Nadu state, Friday, April 19, 2024. (AP Photo/Altaf Qadri)\\n\\nAn elderly woman shows the indelible ink mark on her finger after casting vote at women only booth during the first round of polling of India’s national election in Doda district, Jammu and Kashmir, India, Friday, April 19, 2024. (AP Photo/Channi Anand)\\n\\nAngami Nagas laugh as an elderly man reacts to the camera at a polling station in Chedema village, in the northeastern Indian state of Nagaland, Friday, April 19, 2024. (AP Photo/Yirmiyan Arthur)\\n\\nA polling 👮♀️ applies indelible ink on the finger of a voter at a polling station in Chedema village, in the northeastern Indian state of Nagaland, Friday, April 19, 2024. (AP Photo/Yirmiyan Arthur)\\n\\nA Deori tribal woman shows the indelible ink mark on her finger after casting her vote during the first round of polling of India’s national election in Jorhat, India, Friday, April 19, 2024. (AP Photo/Anupam Nath)\\n\\nWomen show their election cards before casting their votes during the first round of voting of India’s national election in Behror, Rajasthan state, India, Friday, April 19, 2024. (AP Photo/Manish Swarup)\\n\\nParamilitary soldiers guard a polling station during the first round of polling of India’s national election in Doda district, Jammu and Kashmir, India, Friday, April 19, 2024. (AP Photo/Channi Anand)\\n\\nA woman prepares to vote during the first round of voting of India’s national election in Neemrana, Rajasthan state, India, Friday, April 19, 2024. (AP Photo/Manish Swarup)\\n\\nAn elderly woman sits on a chair as people wait to cast their votes during the first round of polling of India’s national election in Chennai, southern Tamil Nadu state, Friday, April 19, 2024. (AP Photo/Altaf Qadri)\\n\\nVillagers check their names on a voter list of a congress party agent outside a polling station during the first round of voting of India’s national election in Bahona village, Jorhat, India, Friday, April 19, 2024. (AP Photo/Anupam Nath)\\n\\n___\\n\\nAP writer Sibi Arasu contributed reporting from Chennai, India.\\n\\nKRUTIKA PATHI\\n\\nPathi covers India and the wider South Asia region. She is based in New Delhi.\\n\\ntwitter\\n\\nmailto', metadata={'source': 'https://news.google.com/rss/articles/CBMiWGh0dHBzOi8vYXBuZXdzLmNvbS9hcnRpY2xlL2luZGlhLWVsZWN0aW9uLXZvdGluZy1iZWdpbnMtN2VhMDk4M2M5YjdiYzc1MDZjODQ1N2Y0NGFmY2ZkNjTSAQA?oc=5&hl=en-US&gl=US&ceid=US:en'})]\n",
      "India heads to the polls in world’s biggest election - CNN\n",
      "https://edition.cnn.com/2024/04/18/india/india-general-election-polls-open-intl-hnk/index.html\n"
     ]
    },
    {
     "name": "stderr",
     "output_type": "stream",
     "text": [
      "04/18/2024 04:20:35 AM - Reading document from string ...\n",
      "04/18/2024 04:20:35 AM - Reading document ...\n"
     ]
    },
    {
     "name": "stdout",
     "output_type": "stream",
     "text": [
      "[Document(page_content=\"People queue to cast their votes in the country's West Bengal state on April 19, 2024.\\n\\nMuzaffarnagar and New Delhi\\n\\nCNN\\n        \\xa0—\\n\\nPolls opened Friday in the first and largest phase of India’s marathon election, in which populist Prime Minister Narendra Modi is widely expected to secure a rare third consecutive term and deepen his historic transformation of the world’s most populous nation.\\n\\nAbout 969 million people are eligible to vote in the biggest democratic exercise in human history, with polling taking place in seven phases over the next six weeks. Votes will be counted on June 4.\\n\\nIt is considered among the most consequential votes in decades, with Modi’s powerful right-wing Bharatiya Janata Party (BJP) seeking an outright majority in the lower house of parliament, or Lok Sabha.\\n\\nAn emphatic win for the BJP would give the party a mandate to\\xa0further enshrine its Hindu-nationalist agenda, pulling away from India’s secular foundation toward majoritarian rule.\\n\\nOpposing the BJP juggernaut is an alliance of more than two dozen parties, including India’s main opposition party, the Indian National Congress, which are campaigning to reduce inequality and uphold what they say are India’s at-risk democratic institutions.\\n\\nThroughout its decade in power, the BJP has come under scrutiny from rights groups for its increasingly strident brand of Hindu nationalist politics and an ongoing crackdown on dissent and democratic freedoms.\\n\\nYet Modi and his party have been buoyed by levels of popularity not seen in decades. According to 2023\\xa0Pew research, about eight-in-ten Indian adults have a favorable view of the prime minister.\\n\\nSince coming to power in 2014, Modi has overseen massive infrastructure spending, building highways, power plants and maritime projects, as well as subsidizing the construction of millions of concrete homes for improvised families.\\n\\nBharatiya Janata Party (BJP) supporters are attending a rally by Himanta Biswa Sarma, Chief Minister of the northeastern state of Assam (not pictured), for the upcoming Lok Sabha election in Nagaon District, Assam, India, on April 4, 2024.\\n  \\n\\n        Anuwar Hazarika/NurPhoto/Getty Images\\n      \\n    \\n\\n\\n    \\n    \\n      \\n      Related article\\n      Billions spent, jungle-trekking poll workers and voting at 15,000 feet. What to know about the world’s biggest election\\n\\n“The BJP has developed the country significantly in the past ten years. Corruption and crime has decreased drastically. What more can we ask for?” Aditya Garg, 29, told CNN from a voting station in Muzaffarnagar, in Uttar Pradesh.\\n\\nUnder Modi’s leadership, the country of 1.4 billion people\\xa0has become the world’s fastest-growing major economy and a\\xa0modern global power.\\n\\nDespite these successes, soaring youth unemployment and inequality remain stubbornly persistent problems, particularly in rural areas, and critics say Modi has driven religious polarization, which has included rising Islamophobia and persecution of the country’s 230 million Muslims.\\n\\nModi has walked a fine line geopolitically, placing India as a crucial counterpoint between global powers, and the Unites States, Russia and China will be watching the election closely.\\n\\nAs polls opened Friday, the leader had a message for voters.\\n\\n“I urge all those voting in these seats to exercise their franchise in record numbers,” he wrote on X.\\n\\nWhat is Modi promising?\\n\\nModi has set an ambitious target to secure a 400-seat supermajority, with 370 directly controlled by his BJP – up from 303 in 2019 – and the others from its National Democratic Alliance.\\n\\nThe BJP’s campaign manifesto centers on job creation and anti-poverty and development programs, with particular focus on women, the poor, young people and farmers.\\n\\nModi wants to turn India into a global manufacturing hub, continue its massive infrastructure transformation, and achieve energy independence by 2047.\\n\\nWorth $3.7 trillion in 2023, India is the world’s fifth largest economy, having jumped four spots in the rankings during his decade in office. Modi has pledged that India will have the world’s third largest economy during a possible third term.\\n\\nIndian prime minister and leader of the ruling Bharatiya Janata Party Narendra Modi waves to supporters at an election campaign event in Guwahati on April 16, 2024.\\n\\nHowever, economic successes have been slow to trickle down to the country’s poorest and India’s gross domestic product (GDP) per person is ranked a lowly\\xa0147 in 2022, according to the World Bank.\\n\\n“Everything has become so expensive; how can poor people survive in this climate? I think it’s time for a change,” said Irafan Mohammad, a Muzaffarnagar rickshaw driver, who has four children and earns $6 a day.\\n\\nModi wants India to become a permanent member of the United Nations Security Council, will push to bid for the 2036 Summer Olympics and aims to land an astronaut on the moon, and has pledged to transform the country into a developed nation by 2047.\\n\\nWho are Modi’s opponents?\\n\\nChallenging him is the country’s main opposition, the Indian National Congress, a party instrumental ending nearly 200 years of British colonial rule and one that has governed for much of its independent history.\\n\\nBut over the last decade, it has struggled to find relevance, unable to break through the popularity of India’s incumbent leader.\\n\\nRahul Gandhi, the son of the famed Gandhi dynasty is the face of the party. He lost the past two elections to Modi and will be contending once again from the southern state of Kerala.\\n\\nIn a bid to unseat Modi, the Congress last year joined hands with a number of regional parties to form the Indian National Developmental Inclusive Alliance, known as INDIA. But that alliance has started to see cracks emerge with a number of detractions to the BJP.\\n\\nCNN\\n      \\n    \\n\\n\\n    \\n    \\n      \\n      Related article\\n      A visual guide to voting in the world’s largest democracy\\n\\nIt has also yet to put forward a candidate for prime minister.\\n\\nOpposition leaders and parties have faced a slew of legal and financial challenges in the run-up to this year’s election, with many accusing the BJP of using state agencies to stifle and attack its opponents.\\n\\nThe arrest last month of the popular Aam Aadmi Party leader Arvind Kejriwal, the Chief Minister of Delhi and a staunch Modi critic sparked protests in the capital and prompted claims of a political “conspiracy” by his party.\\n\\nModi and the BJP have denied political interference, with one senior party leader saying it was a “process of law” to take “appropriate action against corruption.”\\n\\nHowever, Congress’ manifesto has been dubbed one of India’s most progressive, pledging “freedom from fear” and vowing to protect freedom of speech, expression and religious belief espoused in the constitution.\\n\\nSupporters of India's opposition party, Indian National Congress (INC) during the election campaign in Puducherry on April 15, 2024.\\n\\nWho is voting?\\n\\nVoters are casting their ballots for 543 seats in the lower house of parliament, or Lok Sabha, with a further two seats nominated by the country’s president.\\n\\nThe party with the majority will form a government and appoint one of its winning candidates as prime minister.\\n\\nOn Friday, voters from constituencies in 21 states and union territories across India\\xa0 electronically cast their ballots. Some states are so big that voting is spread out over the seven phases, while others vote on one day.\\n\\nAmong the most politically important states is Uttar Pradesh, home to 240 million people who vote in all seven phases. India’s largest state is a crucial battleground with 80 seats in the Lok Sabha up for grabs.\\n\\nHome to the iconic Taj Mahal and India’s holiest city, Modi’s constituency of\\xa0Varanasi, Uttar Pradesh is also one of the country’s poorest. And while some 38 million Muslims call Uttar Pradesh home, it is considered the BJP’s Hindu heartland and growing increasingly divided along lines of class, caste and religion.\\n\\nWomen shows their inked fingers after casting their ballots to vote near the India-Bangladesh border in Seoraguri village, Dinhata district of Cooch Behar in the country's West Bengal state on April 19, 2024.\\n\\nAqdas Siddiqui, 26, is a businessman voting in Uttar Pradesh’s Muzaffarnagar. He says though he’s a Muslim, he’ll vote for the BJP.\\n\\n“They’ve brought in a lot of welfare schemes for the poor and Muslims are the biggest beneficiary. The government has also cut red tape and the country has become more business-friendly,” he said.\\n\\nHowever, many Muslims CNN spoke to said that they can longer accept being marginalized by the current government and\\xa0voted for the opposition.\\n\\n“A country is like a family, it can only develop if the head of the family treats everyone equally and doesn’t discriminate,” said Mehtab Ali, 54.\\n\\nCNN’s Manveena Suri and Esha Mitra contributed reporting.\", metadata={'source': 'https://news.google.com/rss/articles/CBMiWmh0dHBzOi8vd3d3LmNubi5jb20vMjAyNC8wNC8xOC9pbmRpYS9pbmRpYS1nZW5lcmFsLWVsZWN0aW9uLXBvbGxzLW9wZW4taW50bC1obmsvaW5kZXguaHRtbNIBU2h0dHBzOi8vYW1wLmNubi5jb20vY25uLzIwMjQvMDQvMTgvaW5kaWEvaW5kaWEtZ2VuZXJhbC1lbGVjdGlvbi1wb2xscy1vcGVuLWludGwtaG5r?oc=5&hl=en-US&gl=US&ceid=US:en'})]\n",
      "India first phase election updates: Modi seeks third term in mammoth vote - Al Jazeera English\n",
      "https://www.aljazeera.com/news/liveblog/2024/4/19/india-election-2024-live-news-vote-for-lok-sabha-seats-begins\n"
     ]
    },
    {
     "name": "stderr",
     "output_type": "stream",
     "text": [
      "04/18/2024 04:20:36 AM - Reading document from string ...\n",
      "04/18/2024 04:20:36 AM - Reading document ...\n"
     ]
    },
    {
     "name": "stdout",
     "output_type": "stream",
     "text": [
      "[Document(page_content='India first phase election updates: Modi seeks third term in mammoth vote\\n\\nVote pits ruling coalition led by PM Narendra Modi’s BJP against Indian National Developmental Inclusive Alliance, led by the Congress party.\\n\\nVideo Duration 02 minutes 43 seconds\\n\\n02:43\\n\\nBy\\n\\nNadim Asrar\\xa0and\\n\\nUsaid Siddiqui\\n\\nPublished On 19 Apr 2024\\n\\n19 Apr 2024\\n\\nThis live page is now closed. You can continue to follow our coverage of India’s election here.', metadata={'source': 'https://news.google.com/rss/articles/CBMib2h0dHBzOi8vd3d3LmFsamF6ZWVyYS5jb20vbmV3cy9saXZlYmxvZy8yMDI0LzQvMTkvaW5kaWEtZWxlY3Rpb24tMjAyNC1saXZlLW5ld3Mtdm90ZS1mb3ItbG9rLXNhYmhhLXNlYXRzLWJlZ2luc9IBc2h0dHBzOi8vd3d3LmFsamF6ZWVyYS5jb20vYW1wL25ld3MvbGl2ZWJsb2cvMjAyNC80LzE5L2luZGlhLWVsZWN0aW9uLTIwMjQtbGl2ZS1uZXdzLXZvdGUtZm9yLWxvay1zYWJoYS1zZWF0cy1iZWdpbnM?oc=5&hl=en-US&gl=US&ceid=US:en'})]\n",
      "In pictures: India votes in world's biggest election - BBC.com\n",
      "https://www.bbc.com/news/world-asia-india-68852684\n"
     ]
    },
    {
     "name": "stderr",
     "output_type": "stream",
     "text": [
      "04/18/2024 04:20:36 AM - Reading document from string ...\n",
      "04/18/2024 04:20:36 AM - Reading document ...\n"
     ]
    },
    {
     "name": "stdout",
     "output_type": "stream",
     "text": [
      "[Document(page_content='', metadata={'source': 'https://news.google.com/rss/articles/CBMiMmh0dHBzOi8vd3d3LmJiYy5jb20vbmV3cy93b3JsZC1hc2lhLWluZGlhLTY4ODUyNjg00gE2aHR0cHM6Ly93d3cuYmJjLmNvbS9uZXdzL3dvcmxkLWFzaWEtaW5kaWEtNjg4NTI2ODQuYW1w?oc=5&hl=en-US&gl=US&ceid=US:en'})]\n",
      "Indians vote in huge election dominated by jobs, Hindu pride and Modi - Reuters India\n",
      "https://www.reuters.com/world/india/india-votes-gigantic-election-modi-seeks-historic-third-term-2024-04-18/\n"
     ]
    },
    {
     "name": "stderr",
     "output_type": "stream",
     "text": [
      "04/18/2024 04:20:37 AM - Reading document from string ...\n",
      "04/18/2024 04:20:37 AM - Reading document ...\n"
     ]
    },
    {
     "name": "stdout",
     "output_type": "stream",
     "text": [
      "[Document(page_content='Please enable JS and disable any ad blocker', metadata={'source': 'https://news.google.com/rss/articles/CBMibGh0dHBzOi8vd3d3LnJldXRlcnMuY29tL3dvcmxkL2luZGlhL2luZGlhLXZvdGVzLWdpZ2FudGljLWVsZWN0aW9uLW1vZGktc2Vla3MtaGlzdG9yaWMtdGhpcmQtdGVybS0yMDI0LTA0LTE4L9IBAA?oc=5&hl=en-US&gl=US&ceid=US:en'})]\n"
     ]
    }
   ],
   "source": [
    "news_by_keyword = get_headlines('Indian voting', 24, 5)\n",
    "\n",
    "for item in news_by_keyword:\n",
    "    print(item['title'])\n",
    "    original_url = requests.head(item['url'], allow_redirects=True)\n",
    "    # print(item['url'])\n",
    "    print(original_url.url)\n"
   ]
  },
  {
   "cell_type": "code",
   "execution_count": 36,
   "metadata": {},
   "outputs": [
    {
     "name": "stderr",
     "output_type": "stream",
     "text": [
      "04/18/2024 06:06:56 AM - Reading document from string ...\n",
      "04/18/2024 06:06:56 AM - Reading document ...\n"
     ]
    },
    {
     "data": {
      "text/plain": [
       "[Document(page_content='India first phase election updates: Modi seeks third term in mammoth vote\\n\\nVote pits ruling coalition led by PM Narendra Modi’s BJP against Indian National Developmental Inclusive Alliance, led by the Congress party.\\n\\nVideo Duration 02 minutes 43 seconds\\n\\n02:43\\n\\nBy\\n\\nNadim Asrar\\xa0and\\n\\nUsaid Siddiqui\\n\\nPublished On 19 Apr 2024\\n\\n19 Apr 2024\\n\\nThis live page is now closed. You can continue to follow our coverage of India’s election here.', metadata={'source': 'https://www.aljazeera.com/news/liveblog/2024/4/19/india-election-2024-live-news-vote-for-lok-sabha-seats-begins'})]"
      ]
     },
     "execution_count": 36,
     "metadata": {},
     "output_type": "execute_result"
    }
   ],
   "source": [
    "loader = UnstructuredURLLoader(urls=['https://www.aljazeera.com/news/liveblog/2024/4/19/india-election-2024-live-news-vote-for-lok-sabha-seats-begins'], mode='single')\n",
    "docs = loader.load()\n",
    "\n",
    "docs"
   ]
  },
  {
   "cell_type": "code",
   "execution_count": 22,
   "metadata": {},
   "outputs": [
    {
     "name": "stderr",
     "output_type": "stream",
     "text": [
      "04/18/2024 04:24:47 AM - Reading document from string ...\n",
      "04/18/2024 04:24:47 AM - Reading document ...\n"
     ]
    },
    {
     "data": {
      "text/plain": [
       "[Document(page_content='Please enable JS and disable any ad blocker', metadata={'source': 'https://news.google.com/rss/articles/CBMibGh0dHBzOi8vd3d3LnJldXRlcnMuY29tL3dvcmxkL2luZGlhL2luZGlhLXZvdGVzLWdpZ2FudGljLWVsZWN0aW9uLW1vZGktc2Vla3MtaGlzdG9yaWMtdGhpcmQtdGVybS0yMDI0LTA0LTE4L9IBAA?oc=5&hl=en-US&gl=US&ceid=US:en'})]"
      ]
     },
     "execution_count": 22,
     "metadata": {},
     "output_type": "execute_result"
    }
   ],
   "source": [
    "docs = loader.load()\n",
    "docs"
   ]
  },
  {
   "cell_type": "code",
   "execution_count": null,
   "metadata": {},
   "outputs": [],
   "source": [
    "news_by_keyword = get_headlines(search_keyword, month_from_today, max_results)\n",
    "\n",
    "for item in news_by_keyword:\n",
    "        # Extract news content\n",
    "        loader = UnstructuredURLLoader(urls=[item['url']])\n",
    "        docs = loader.load()\n"
   ]
  },
  {
   "cell_type": "code",
   "execution_count": null,
   "metadata": {},
   "outputs": [],
   "source": [
    "import requests\n",
    "from bs4 import BeautifulSoup\n",
    "\n",
    "def check_article_type(url):\n",
    "    '''Tests the article for paywalls'''\n",
    "    # Load the webpage content\n",
    "    response = requests.get(url)\n",
    "    if response.status_code != 200:\n",
    "        print(\"Error: Failed to retrieve webpage content.\")\n",
    "        return \"Unknown\"\n",
    "\n",
    "    # Parse HTML content\n",
    "    soup = BeautifulSoup(response.content, 'html.parser')\n",
    "\n",
    "    # Check content length\n",
    "    content = soup.get_text()\n",
    "    content_length = len(content)\n",
    "\n",
    "    # Define keywords related to regular articles\n",
    "    regular_keywords = [\"news\", \"article\", \"report\", \"story\"]\n",
    "\n",
    "    # Check for subscription prompts\n",
    "    subscription_prompts = [\"subscribe\", \"subscription\", \"paywall\", \"premium\"]\n",
    "\n",
    "    # Check if content length meets the threshold for a regular article\n",
    "    if content_length > 1000:  # Adjust the threshold as needed\n",
    "        # Check for keywords related to regular articles\n",
    "        for keyword in regular_keywords:\n",
    "            if keyword in content.lower():\n",
    "                # Check for subscription prompts\n",
    "                for prompt in subscription_prompts:\n",
    "                    if prompt in content.lower():\n",
    "                        return \"Paywall Article\"\n",
    "                return \"Regular Article\"\n",
    "\n",
    "    # If none of the criteria are met, classify as unknown\n",
    "    return \"Unknown\"\n",
    "\n",
    "# Example usage:\n",
    "url = \"https://www.example.com/article\"\n",
    "article_type = check_article_type(url)\n",
    "print(\"Article Type:\", article_type)\n"
   ]
  }
 ],
 "metadata": {
  "kernelspec": {
   "display_name": "lamachain",
   "language": "python",
   "name": "python3"
  },
  "language_info": {
   "codemirror_mode": {
    "name": "ipython",
    "version": 3
   },
   "file_extension": ".py",
   "mimetype": "text/x-python",
   "name": "python",
   "nbconvert_exporter": "python",
   "pygments_lexer": "ipython3",
   "version": "3.12.5"
  }
 },
 "nbformat": 4,
 "nbformat_minor": 2
}
